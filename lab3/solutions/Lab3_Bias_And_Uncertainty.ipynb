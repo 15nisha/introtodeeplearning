{
  "cells": [
    {
      "cell_type": "markdown",
      "source": [
        "<table align=\"center\">\n",
        "  <td align=\"center\"><a target=\"_blank\" href=\"http://introtodeeplearning.com\">\n",
        "        <img src=\"https://i.ibb.co/Jr88sn2/mit.png\" style=\"padding-bottom:5px;\" />\n",
        "      Visit MIT Deep Learning</a></td>\n",
        "  <td align=\"center\"><a target=\"_blank\" href=\"https://colab.research.google.com/github/aamini/introtodeeplearning/blob/2023/lab3/solutions/Lab3_Part_1_Introduction_to_CAPSA.ipynb\">\n",
        "        <img src=\"https://i.ibb.co/2P3SLwK/colab.png\"  style=\"padding-bottom:5px;\" />Run in Google Colab</a></td>\n",
        "  <td align=\"center\"><a target=\"_blank\" href=\"https://github.com/aamini/introtodeeplearning/blob/2023/lab3/solutions/Lab3_Part_1_Introduction_to_CAPSA.ipynb\">\n",
        "        <img src=\"https://i.ibb.co/xfJbPmL/github.png\"  height=\"70px\" style=\"padding-bottom:5px;\"  />View Source on GitHub</a></td>\n",
        "</table>\n",
        "\n",
        "# Copyright Information"
      ],
      "metadata": {
        "id": "Kxl9-zNYhxlQ"
      }
    },
    {
      "cell_type": "code",
      "source": [
        "# Copyright 2023 MIT Introduction to Deep Learning. All Rights Reserved.\n",
        "# \n",
        "# Licensed under the MIT License. You may not use this file except in compliance\n",
        "# with the License. Use and/or modification of this code outside of MIT Introduction\n",
        "# to Deep Learning must reference:\n",
        "#\n",
        "# © MIT Introduction to Deep Learning\n",
        "# http://introtodeeplearning.com\n",
        "#"
      ],
      "metadata": {
        "id": "aAcJJN3Xh3S1"
      },
      "execution_count": null,
      "outputs": []
    },
    {
      "cell_type": "markdown",
      "metadata": {
        "id": "IgYKebt871EK"
      },
      "source": [
        "# Laboratory 3: Debiasing, Uncertainty, and Robustness\n",
        "\n",
        "# Part 2: Mitigating Bias and Uncertainty in Facial Detection Systems\n",
        "\n",
        "In Lab 2, we defined a semi-supervised VAE (SS-VAE) to diagnose feature representation disparities and biases in facial detection systems. In Lab 3 Part 1, we gained experience with [Capsa](https://github.com/themis-ai/capsa/) and its ability to build risk-aware models automatically through wrapping. Now in this lab, we will put these two together: using Capsa to build systems that can *automatically* uncover and mitigate bias and uncertainty in facial detection systems.\n",
        "\n",
        "As we have seen, automatically detecting and mitigating bias and uncertainty is crucial to deploying fair and safe models. Building off our foundation with Capsa, developed by [Themis AI](https://themisai.io/), we will now use Capsa for the facial detection problem, in order to diagnose risks in facial detection models. You will then design and create strategies to mitigate these risks, with goal of improving model performance across the entire facial detection dataset.\n",
        "\n",
        "**Your goal in this lab -- and the associated competition -- is to design a strategic solution for bias and uncertainty mitigation, using Capsa.** The approaches and solutions with oustanding performance will be recognized with outstanding prizes! Details on the submission process are at the end of this lab.\n",
        "\n",
        "![Capsa overview](https://raw.githubusercontent.com/aamini/introtodeeplearning/2023/lab3/img/capsa_overview.png)"
      ]
    },
    {
      "cell_type": "markdown",
      "metadata": {
        "id": "6JTRoM7E71EU"
      },
      "source": [
        "Let's get started by installing the necessary dependencies:"
      ]
    },
    {
      "cell_type": "code",
      "source": [
        "!git clone -b 2023 https://github.com/aamini/introtodeeplearning.git\n",
        "%cd introtodeeplearning/\n",
        "%pip install -e ."
      ],
      "metadata": {
        "id": "3pzGVPrh-4LQ",
        "outputId": "2049b9c3-1816-43a3-acda-fbd18df44e7c",
        "colab": {
          "base_uri": "https://localhost:8080/"
        }
      },
      "execution_count": null,
      "outputs": [
        {
          "output_type": "stream",
          "name": "stdout",
          "text": [
            "Cloning into 'introtodeeplearning'...\n",
            "remote: Enumerating objects: 2354, done.\u001b[K\n",
            "remote: Counting objects: 100% (337/337), done.\u001b[K\n",
            "remote: Compressing objects: 100% (162/162), done.\u001b[K\n",
            "remote: Total 2354 (delta 207), reused 284 (delta 172), pack-reused 2017\u001b[K\n",
            "Receiving objects: 100% (2354/2354), 136.06 MiB | 27.14 MiB/s, done.\n",
            "Resolving deltas: 100% (1334/1334), done.\n",
            "/content/introtodeeplearning\n",
            "Looking in indexes: https://pypi.org/simple, https://us-python.pkg.dev/colab-wheels/public/simple/\n",
            "Obtaining file:///content/introtodeeplearning\n",
            "  Preparing metadata (setup.py) ... \u001b[?25l\u001b[?25hdone\n",
            "Requirement already satisfied: numpy in /usr/local/lib/python3.8/dist-packages (from mitdeeplearning==0.3.0) (1.21.6)\n",
            "Requirement already satisfied: regex in /usr/local/lib/python3.8/dist-packages (from mitdeeplearning==0.3.0) (2022.6.2)\n",
            "Requirement already satisfied: tqdm in /usr/local/lib/python3.8/dist-packages (from mitdeeplearning==0.3.0) (4.64.1)\n",
            "Requirement already satisfied: gym in /usr/local/lib/python3.8/dist-packages (from mitdeeplearning==0.3.0) (0.25.2)\n",
            "Requirement already satisfied: gym-notices>=0.0.4 in /usr/local/lib/python3.8/dist-packages (from gym->mitdeeplearning==0.3.0) (0.0.8)\n",
            "Requirement already satisfied: cloudpickle>=1.2.0 in /usr/local/lib/python3.8/dist-packages (from gym->mitdeeplearning==0.3.0) (2.2.0)\n",
            "Requirement already satisfied: importlib-metadata>=4.8.0 in /usr/local/lib/python3.8/dist-packages (from gym->mitdeeplearning==0.3.0) (6.0.0)\n",
            "Requirement already satisfied: zipp>=0.5 in /usr/local/lib/python3.8/dist-packages (from importlib-metadata>=4.8.0->gym->mitdeeplearning==0.3.0) (3.11.0)\n",
            "Installing collected packages: mitdeeplearning\n",
            "  Running setup.py develop for mitdeeplearning\n",
            "Successfully installed mitdeeplearning-0.3.0\n"
          ]
        }
      ]
    },
    {
      "cell_type": "code",
      "execution_count": null,
      "metadata": {
        "id": "2PdAhs1371EU",
        "outputId": "dd327495-e85d-4849-9487-4f71535b6cae",
        "colab": {
          "base_uri": "https://localhost:8080/"
        }
      },
      "outputs": [
        {
          "output_type": "stream",
          "name": "stdout",
          "text": [
            "Looking in indexes: https://pypi.org/simple, https://us-python.pkg.dev/colab-wheels/public/simple/\n",
            "Requirement already satisfied: capsa in /usr/local/lib/python3.8/dist-packages (0.1.3)\n"
          ]
        }
      ],
      "source": [
        "# Import Tensorflow 2.0\n",
        "#%tensorflow_version 2.x\n",
        "import tensorflow as tf\n",
        "\n",
        "import IPython\n",
        "import functools\n",
        "import matplotlib.pyplot as plt\n",
        "import numpy as np\n",
        "from tqdm import tqdm\n",
        "from capsa import *\n",
        "\n",
        "# Download and import the MIT 6.S191 package\n",
        "import mitdeeplearning as mdl\n",
        "\n",
        "# Download and import capsa\n",
        "!pip install capsa\n",
        "import capsa"
      ]
    },
    {
      "cell_type": "markdown",
      "metadata": {
        "id": "6VKVqLb371EV"
      },
      "source": [
        "# 3.1 Datasets\n",
        "\n",
        "Since we are again focusing on the facial detection problem, we will use the same datasets from Lab 2. To remind you, we have a dataset of positive examples (i.e., of faces) and a dataset of negative examples (i.e., of things that are not faces).\n",
        "\n",
        "1.   **Positive training data**: [CelebA Dataset](http://mmlab.ie.cuhk.edu.hk/projects/CelebA.html). A large-scale dataset (over 200K images) of celebrity faces.   \n",
        "2.   **Negative training data**: [ImageNet](http://www.image-net.org/). A large-scale dataset with many images across many different categories. We will take negative examples from a variety of non-human categories.\n",
        "\n",
        "We will evaluate trained models on an independent test dataset of face images to diagnose and mitigate potential issues with *bias, fairness, and confidence*. This will be a larger test dataset for evaluation purposes.\n",
        "\n",
        "We begin by importing these datasets. We have defined a `DatasetLoader` class that does a bit of data pre-processing to import the training data in a usable format."
      ]
    },
    {
      "cell_type": "code",
      "execution_count": null,
      "metadata": {
        "id": "HIA6EA1D71EW",
        "outputId": "162f7d36-81aa-4fb9-b265-af9a8fa9395d",
        "colab": {
          "base_uri": "https://localhost:8080/"
        }
      },
      "outputs": [
        {
          "output_type": "stream",
          "name": "stdout",
          "text": [
            "Downloading data from https://www.dropbox.com/s/b5z1cd317y5u1tr/train_face_2023_v2.h5?dl=1\n",
            "1350735194/1350735194 [==============================] - 32s 0us/step\n",
            "Opening /root/.keras/datasets/train_face_2023_v2.h5\n",
            "Loading data into memory...\n",
            "Opening /root/.keras/datasets/train_face_2023_v2.h5\n",
            "Loading data into memory...\n"
          ]
        }
      ],
      "source": [
        "batch_size = 32\n",
        "\n",
        "# Get the training data: both images from CelebA and ImageNet\n",
        "path_to_training_data = tf.keras.utils.get_file('train_face_2023_v2.h5', 'https://www.dropbox.com/s/b5z1cd317y5u1tr/train_face_2023_v2.h5?dl=1')\n",
        "# Instantiate a DatasetLoader using the downloaded dataset\n",
        "train_loader = mdl.lab3.DatasetLoader(path_to_training_data, training=True, batch_size=batch_size)\n",
        "test_loader = mdl.lab3.DatasetLoader(path_to_training_data, training=False, batch_size=batch_size)"
      ]
    },
    {
      "cell_type": "markdown",
      "metadata": {
        "id": "cREmhMWJ71EX"
      },
      "source": [
        "### Building robustness to bias and uncertainty\n",
        "\n",
        "Remember that we'll be training our facial detection classifiers on the large, well-curated CelebA dataset (and ImageNet), and then evaluating their accuracy by testing them on an independent test dataset. We want to mitigate the effects of unwanted bias and uncertainty on the model's predictions and performance. Your goal is to build the best-performing, most robust model, one that achieves high classification accuracy across the entire test dataset.\n",
        "\n",
        "To achieve this, you may want to consider the three metrics introduced with Capsa: (1) representation bias, (2) data or aleatoric uncertainty, and (3) model or epistemic uncertainty. Note that all three of these metrics are different! For example, we can have well-represented examples that still have high epistemic uncertainty. Think about how you may use these metrics to improve the performance of your model."
      ]
    },
    {
      "cell_type": "markdown",
      "metadata": {
        "id": "1NhotGiT71EY"
      },
      "source": [
        "# 3.2 Risk-aware facial detection with Capsa\n",
        "\n",
        "In Lab 2, we built a semi-supervised variational autoencoder (SS-VAE) to learn the latent structure of our database and to uncover feature representation disparities, inspired by the approach of [uncover hidden biases](http://introtodeeplearning.com/AAAI_MitigatingAlgorithmicBias.pdf). In this lab, we'll show that we can use Capsa to build the same VAE in one line!\n",
        "\n",
        "This sets the foundation for quantifying a key risk metric -- representation bias -- for the facial detection problem. In working to improve your model's performance, you will want to consider representation bias carefully and think about how you could mitigate the effect of representation bias.\n",
        "\n",
        "Just like in Lab 2, we begin by defining a standard CNN-based classifier. We will then use Capsa to wrap the model and build the risk-aware VAE variant."
      ]
    },
    {
      "cell_type": "code",
      "execution_count": null,
      "metadata": {
        "id": "5hQb75Vm71EZ"
      },
      "outputs": [],
      "source": [
        "### Define the CNN classifier model ###\n",
        "\n",
        "'''Function to define a standard CNN model'''\n",
        "def make_standard_classifier(n_outputs=1, n_filters=12):\n",
        "  Conv2D = functools.partial(tf.keras.layers.Conv2D, padding='same', activation='relu')\n",
        "  BatchNormalization = tf.keras.layers.BatchNormalization\n",
        "  Flatten = tf.keras.layers.Flatten\n",
        "  Dense = functools.partial(tf.keras.layers.Dense, activation='relu')\n",
        "\n",
        "  model = tf.keras.Sequential([ \n",
        "    tf.keras.Input(shape=(64,64, 3)),\n",
        "    Conv2D(filters=1*n_filters, kernel_size=5,  strides=2),\n",
        "    BatchNormalization(),\n",
        "    \n",
        "    Conv2D(filters=2*n_filters, kernel_size=5,  strides=2),\n",
        "    BatchNormalization(),\n",
        "\n",
        "    Conv2D(filters=4*n_filters, kernel_size=3,  strides=2),\n",
        "    BatchNormalization(),\n",
        "\n",
        "    Conv2D(filters=6*n_filters, kernel_size=3,  strides=2),\n",
        "    BatchNormalization(),\n",
        "\n",
        "    Conv2D(filters=8*n_filters, kernel_size=3,  strides=2),\n",
        "    BatchNormalization(),\n",
        "\n",
        "    Flatten(),\n",
        "    Dense(512),\n",
        "    Dense(n_outputs, activation=None),\n",
        "  ])\n",
        "  return model"
      ]
    },
    {
      "cell_type": "markdown",
      "metadata": {
        "id": "LgTG6buf71Ea"
      },
      "source": [
        "### Capsa's `HistogramVAEWrapper`\n",
        "\n",
        "With our base classifier Capsa allows us to automatically define a VAE implementing that base classifier. Capsa's [`HistogramVAEWrapper`](https://themisai.io/capsa/api_documentation/HistogramVAEWrapper.html) builds this VAE to analyze the latent space distribution, just as we did in Lab 2. \n",
        "\n",
        "Specifically, `capsa.HistogramVAEWrapper` constructs a histogram with `num_bins` bins across every dimension of the latent space, and then calculates the joint probability of every sample according to the constructed histograms. The samples with the lowest joint probability have the lowest representation; the samples with the highest joint probability have the highest representation.\n",
        "\n",
        "`capsa.HistogramVAEWrapper` takes in a number of arguments including:\n",
        "1. `base_model`: the model to be transformed into the risk-aware variant.\n",
        "2. `num_bins`: the number of bins we want to discretize our distribution into. \n",
        "2. `queue_size`: the number of samples we want to track at any given point.\n",
        "3. `decoder`: the decoder architecture for the VAE.\n",
        "\n",
        "We define the same decoder as in Lab 2:"
      ]
    },
    {
      "cell_type": "code",
      "execution_count": null,
      "metadata": {
        "id": "zTat3K8E71Eb"
      },
      "outputs": [],
      "source": [
        "### Define the decoder architecture for the facial detection VAE ###\n",
        "\n",
        "def make_face_decoder_network(n_filters=12):\n",
        "  # Functionally define the different layer types we will use\n",
        "  Conv2DTranspose = functools.partial(tf.keras.layers.Conv2DTranspose, \n",
        "                                      padding='same', activation='relu')\n",
        "  BatchNormalization = tf.keras.layers.BatchNormalization\n",
        "  Flatten = tf.keras.layers.Flatten\n",
        "  Dense = functools.partial(tf.keras.layers.Dense, activation='relu')\n",
        "  Reshape = tf.keras.layers.Reshape\n",
        "\n",
        "  # Build the decoder network using the Sequential API\n",
        "  decoder = tf.keras.Sequential([\n",
        "    # Transform to pre-convolutional generation\n",
        "    Dense(units=2*2*8*n_filters),  # 4x4 feature maps (with 6N occurances)\n",
        "    Reshape(target_shape=(2, 2, 8*n_filters)),\n",
        "\n",
        "    # Upscaling convolutions (inverse of encoder)\n",
        "    Conv2DTranspose(filters=6*n_filters, kernel_size=3,  strides=2),\n",
        "    Conv2DTranspose(filters=4*n_filters, kernel_size=3,  strides=2),\n",
        "    Conv2DTranspose(filters=2*n_filters, kernel_size=3,  strides=2),\n",
        "    Conv2DTranspose(filters=1*n_filters, kernel_size=5,  strides=2),\n",
        "    Conv2DTranspose(filters=3, kernel_size=5,  strides=2),\n",
        "  ])\n",
        "\n",
        "  return decoder"
      ]
    },
    {
      "cell_type": "markdown",
      "metadata": {
        "id": "SzFGcrhv71Ed"
      },
      "source": [
        "We are ready to create the wrapped model using `capsa.HistogramVAEWrapper` by passing in the relevant arguments!\n",
        "\n",
        "Just like in the wrappers in the Introduction to Capsa lab, we can take our standard CNN classifier, wrap it with `capsa.HistogramVAEWrapper`, build the wrapped model. The wrapper then enablings semi-supervised training for the facial detection task. As the wrapped model trains, the classifier weights are updated, and the VAE-wrapped model learns to track feature distributions over the latent space. More details of the `HistogramVAEWrapper` and how it can be used are [available here](https://themisai.io/capsa/api_documentation/HistogramVAEWrapper.html).\n",
        "\n",
        "We can then evaluate the representation bias of the classifier on the test dataset. By calling the `wrapped_model` on our test data, we can automatically generate representation bias and uncertainty scores that are normally manually calculated. Let's wrap our base CNN classifier using Capsa, train and build the resulting model, and start to process the test data: "
      ]
    },
    {
      "cell_type": "code",
      "source": [
        "### Estimating representation bias with Capsa HistogramVAEWrapper ###\n",
        "\n",
        "model = make_standard_classifier()\n",
        "# Wrap the CNN classifier for latent encoding with a VAE wrapper\n",
        "wrapped_model = capsa.HistogramVAEWrapper(model, num_bins=5, queue_size=20000, \n",
        "    latent_dim = 32, decoder=make_face_decoder_network())\n",
        "\n",
        "# Build the model for classification, defining the loss function, optimizer, and metrics\n",
        "wrapped_model.compile(\n",
        "    optimizer=tf.keras.optimizers.Adam(learning_rate=5e-4),\n",
        "    loss=tf.keras.losses.BinaryCrossentropy(from_logits=True), # for classification\n",
        "    metrics=[tf.keras.metrics.BinaryAccuracy()], # for classification\n",
        "    run_eagerly=True\n",
        ")\n",
        "\n",
        "# Train the wrapped model for 6 epochs by fitting to the training data\n",
        "history = wrapped_model.fit(\n",
        "        train_loader,\n",
        "        epochs=6,\n",
        "        batch_size=batch_size,\n",
        "  )\n",
        "\n",
        "## Evaluation\n",
        "\n",
        "# Get all faces from the testing dataset\n",
        "test_imgs = test_loader.get_all_faces()\n",
        "\n",
        "# Call the Capsa-wrapped classifier to generate outputs: predictions, uncertainty, and bias!\n",
        "predictions, uncertainty, bias = wrapped_model.predict(test_imgs, batch_size=512)"
      ],
      "metadata": {
        "id": "YqsBHBf3yUlm"
      },
      "execution_count": null,
      "outputs": []
    },
    {
      "cell_type": "markdown",
      "source": [
        "# 3.3 Analyzing representation bias with Capsa\n",
        "\n",
        "From the above output, we have an estimate for the representation bias score! We can analyze the representation scores to start to think about manifestations of bias in the facial detection dataset. Before you run the next code block, which faces would you expect to be underrepresented in the dataset? Which ones do you think will be overrepresented?"
      ],
      "metadata": {
        "id": "629ng-_H6WOk"
      }
    },
    {
      "cell_type": "code",
      "execution_count": null,
      "metadata": {
        "id": "OYMRqq5E71Ee"
      },
      "outputs": [],
      "source": [
        "### Analyzing representation bias scores ###\n",
        "\n",
        "# Sort according to lowest to highest representation scores\n",
        "indices = np.argsort(bias, axis=None) # sort the score values themselves\n",
        "sorted_images = test_imgs[indices] # sort images from lowest to highest representations\n",
        "sorted_biases = bias[indices] # order the representation bias scores\n",
        "sorted_preds = predictions[indices] # order the prediction values\n",
        "\n",
        "# Visualize the 20 images with the lowest representation in the test dataset\n",
        "plt.imshow(mdl.util.create_grid_of_images(sorted_images[:20], (4, 5)))\n",
        "\n",
        "# Visualize the 20 images with the highest representation in the test dataset\n",
        "plt.imshow(mdl.util.create_grid_of_images(sorted_images[-20:0], (4, 5)))"
      ]
    },
    {
      "cell_type": "markdown",
      "metadata": {
        "id": "-JYmGMJF71Ef"
      },
      "source": [
        "We can also quantify how the representation density relates to the classification accuracy by plotting the two against each other:"
      ]
    },
    {
      "cell_type": "code",
      "execution_count": null,
      "metadata": {
        "id": "DfzlOhWi71Ef",
        "outputId": "65e20e7a-5e3e-4452-ae49-559a33a063ba",
        "colab": {
          "base_uri": "https://localhost:8080/",
          "height": 299
        }
      },
      "outputs": [
        {
          "output_type": "display_data",
          "data": {
            "text/plain": [
              "<Figure size 432x288 with 1 Axes>"
            ],
            "image/png": "[encoded data removed]"
          },
          "metadata": {
            "needs_background": "light"
          }
        },
        {
          "output_type": "display_data",
          "data": {
            "text/plain": [
              "<Figure size 432x288 with 0 Axes>"
            ]
          },
          "metadata": {}
        }
      ],
      "source": [
        "averaged_imgs = mdl.lab3.plot_accuracy_vs_risk(sorted_images, sorted_biases, sorted_preds, \"Bias vs. Accuracy\")"
      ]
    },
    {
      "cell_type": "markdown",
      "metadata": {
        "id": "i8ERzg2-71Ef"
      },
      "source": [
        "These representations scores relate back to data examples, so we can visualize what the average face looks like for a gien *percentile* of representation density:"
      ]
    },
    {
      "cell_type": "code",
      "source": [
        "fig, ax = plt.subplots(figsize=(15,5))\n",
        "ax.imshow(mdl.util.create_grid_of_images(averaged_imgs, (1,10)))"
      ],
      "metadata": {
        "id": "kn9IpPKYSECg",
        "outputId": "1685fde2-8f66-4ed6-95c4-2158a0358fbc",
        "colab": {
          "base_uri": "https://localhost:8080/",
          "height": 153
        }
      },
      "execution_count": null,
      "outputs": [
        {
          "output_type": "execute_result",
          "data": {
            "text/plain": [
              "<matplotlib.image.AxesImage at 0x7f8be1776280>"
            ]
          },
          "metadata": {},
          "execution_count": 33
        },
        {
          "output_type": "display_data",
          "data": {
            "text/plain": [
              "<Figure size 1080x360 with 1 Axes>"
            ],
            "image/png": "[encoded data removed]"
          },
          "metadata": {
            "needs_background": "light"
          }
        }
      ]
    },
    {
      "cell_type": "markdown",
      "metadata": {
        "id": "cRNV-3SU71Eg"
      },
      "source": [
        "#### **TODO: Scoring representation densities with Capsa**\n",
        "\n",
        "Write short answers to the questions below to complete the `TODO`s:\n",
        "\n",
        "1. How does accuracy relate to the representation score? From this relationship, what can you determine about the bias underlying the dataset?\n",
        "2. What does the average face in the 10th percentile of representation density look like (i.e., the face for which 10% of the data have lower probability of occuring)? What about the 90th percentile? What changes across these faces?\n",
        "3. What could be potential limitations of the `HistogramVAEWrapper` approach as it is implemented now?"
      ]
    },
    {
      "cell_type": "markdown",
      "metadata": {
        "id": "ww5lx7ue71Eg"
      },
      "source": [
        "# 3.4 Analyzing epistemic uncertainty with Capsa\n",
        "\n",
        "Recall that *epistemic* uncertainty, or a model's uncertainty in its prediction, can arise from out-of-distribution data, missing data, or samples that are harder to learn. This does not necessarily correlate with representation bias! Imagine the scenario of training an object detector for self-driving cars: even if the model is presented with many cluttered scenes, these samples still may be harder to learn than scenes with very few objects in them.\n",
        "\n",
        "We will now use our VAE-wrapped facial detection classifier to analyze and estimate the epistemic uncertainty of the model trained on the facial detection task.\n",
        "\n",
        "While most methods of estimating epistemic uncertainty are *sampling-based*, we can also use ***reconstruction-based*** methods -- like using VAEs -- to estimate epistemic uncertainty. If a model is unable to provide a good reconstruction for a given data point, it has not learned that area of the underlying data distribution well, and therefore has high epistemic uncertainty.\n",
        "\n"
      ]
    },
    {
      "cell_type": "markdown",
      "source": [
        "Since we've already used the `HistogramVAEWrapper` to calculate the histograms for representation bias quantification, we can use the exact same VAE wrapper to shed insight into epistemic uncertainty! Capsa helps us do exactly that. When we called the model, we returned the classification prediction, uncertainty, and bias for every sample:\n",
        "`predictions, uncertainty, bias = wrapped_model.predict(test_imgs, batch_size=512)`.\n",
        "\n",
        "Let's analyze these estimated uncertainties:"
      ],
      "metadata": {
        "id": "NEfeWo2p7wKm"
      }
    },
    {
      "cell_type": "code",
      "execution_count": null,
      "metadata": {
        "id": "AwGPvdZm71Eg"
      },
      "outputs": [],
      "source": [
        "### Analyzing epistemic uncertainty estimates ###\n",
        "\n",
        "# Sort according to epistemic uncertainty estimates\n",
        "epistemic_indices = np.argsort(uncertainty, axis=None) # sort the uncertainty values\n",
        "epistemic_images = test_imgs[epistemic_indices] # sort images from lowest to highest uncertainty\n",
        "sorted_epistemic = uncertainty[epistemic_indices] # order the uncertainty scores\n",
        "sorted_epistemic_preds = predictions[epistemic_indices] # order the prediction values\n",
        "\n",
        "# Visualize the 20 images with the LEAST epistemic uncertainty\n",
        "plt.imshow(mdl.util.create_grid_of_images(epistemic_images[:20], (4, 5)))\n",
        "\n",
        "# Visualize the 20 images with the MOST epistemic uncertainty\n",
        "plt.imshow(mdl.util.create_grid_of_images(epistemic_images[:20], (4, 5)))"
      ]
    },
    {
      "cell_type": "markdown",
      "metadata": {
        "id": "L0dA8EyX71Eh"
      },
      "source": [
        "We quantify how the epistemic uncertainty relates to the classification accuracy by plotting the two against each other:"
      ]
    },
    {
      "cell_type": "code",
      "execution_count": null,
      "metadata": {
        "id": "rzQwvSvA71Eh",
        "outputId": "4299761d-22b3-4f44-b9b3-d9194d04a6f2",
        "colab": {
          "base_uri": "https://localhost:8080/",
          "height": 299
        }
      },
      "outputs": [
        {
          "output_type": "display_data",
          "data": {
            "text/plain": [
              "<Figure size 432x288 with 1 Axes>"
            ],
            "image/png": "[encoded data removed]"
          },
          "metadata": {
            "needs_background": "light"
          }
        },
        {
          "output_type": "display_data",
          "data": {
            "text/plain": [
              "<Figure size 432x288 with 0 Axes>"
            ]
          },
          "metadata": {}
        }
      ],
      "source": [
        "_ = lab3.plot_accuracy_vs_risk(epistemic_images, sorted_epistemic, sorted_epistemic_preds, \"Epistemic Uncertainty vs. Accuracy\")"
      ]
    },
    {
      "cell_type": "markdown",
      "metadata": {
        "id": "iyn0IE6x71Eh"
      },
      "source": [
        "#### **TODO: Estimating epistemic uncertainties with Capsa**\n",
        "\n",
        "Write short answers to the questions below to complete the `TODO`s:\n",
        "\n",
        "1. How does accuracy relate to the epistemic uncertainty?\n",
        "2. How do the results for epistemic uncertainty compare to the results for representation bias? Was this expected or unexpted? Why?\n",
        "3. What may be instances in the facial detection task that could have high representation density but also high uncertainty? "
      ]
    },
    {
      "cell_type": "markdown",
      "metadata": {
        "id": "XbwRbesM71Eh"
      },
      "source": [
        "# 3.4 Resampling based on risk metrics\n",
        " Then, our goal will be to continue our implementation of the DB-VAE and use the latent variables learned via a VAE to adaptively re-sample the CelebA data during training. Specifically, we will alter the probability that a given image is used during training based on how often its latent features appear in the dataset. So, faces with rarer features (like dark skin, sunglasses, or hats) should become more likely to be sampled during training, while the sampling probability for faces with features that are over-represented in the training dataset should decrease (relative to uniform random sampling across the training data).\n",
        "\n",
        "  and we want to oversample these. Conversely, we want to undersample the areas of the dataset with the highest bias.\n",
        "\n",
        "\n",
        "Finally, let's use both the bias score and the reconstruction loss to adaptively resample from our dataset. Since we can calculate this score on-the-fly *during training*, we can adjust the probability of samples being chosen. \n",
        "\n",
        "Note that we want to debias and amplify only the *positive* samples in the dataset, so we're going to only adjust probabilities and calculate scores for these samples. \n",
        "\n",
        "We want to *amplify*, or increase the probability of sampling, of images with high epistemic uncertainty, since these data points come from areas of the latent distribution that the model hasn't learned very well yet. We also want to amplify images with very low representation bias, since otherwise, the model won't see enough of these samples during training. Let's define two functions below to do this:"
      ]
    },
    {
      "cell_type": "markdown",
      "metadata": {
        "id": "hRL5nUBs71Ei"
      },
      "source": [
        "First, let's do this for the bias. We have a smoothing parameter `alpha` that we can tune: as `alpha` increases, the probabilities will tend towards a uniform distribution, and as `alpha` decreases, the probabilities will correlate more directly with the bias. "
      ]
    },
    {
      "cell_type": "code",
      "execution_count": null,
      "metadata": {
        "id": "0wR2bMw571Ei"
      },
      "outputs": [],
      "source": [
        "def score_to_probability_bias(score, alpha):\n",
        "    score = score + alpha\n",
        "    probabilities = 1/score\n",
        "    probabilities = probabilities/sum(probabilities)\n",
        "    return probabilities"
      ]
    },
    {
      "cell_type": "markdown",
      "metadata": {
        "id": "TUs-0O_v71Ei"
      },
      "source": [
        "Let's now define a similar function for the epistemic probabilities: note that in this case, we want high epistemic uncertainty to correlate with a higher probability!"
      ]
    },
    {
      "cell_type": "code",
      "execution_count": null,
      "metadata": {
        "id": "hLWGKvc971Ei"
      },
      "outputs": [],
      "source": [
        "def score_to_probability_epistemic(score, beta):\n",
        "    score = score + beta\n",
        "    probabilities = score/sum(score)\n",
        "    return probabilities"
      ]
    },
    {
      "cell_type": "markdown",
      "metadata": {
        "id": "meZxtxFS71Ei"
      },
      "source": [
        "Now, let's redefine and re-train our debiasing model!"
      ]
    },
    {
      "cell_type": "code",
      "execution_count": null,
      "metadata": {
        "id": "Q99jG0dB71Ei"
      },
      "outputs": [],
      "source": [
        "standard_classifier = make_standard_classifier()\n",
        "dbvae = HistogramVAEWrapper(standard_classifier, latent_dim=100, num_bins=5, queue_size=2000, decoder=make_face_decoder_network())\n",
        "dbvae.compile(optimizer=tf.keras.optimizers.Adam(1e-4),\n",
        "            loss=tf.keras.losses.BinaryCrossentropy(),\n",
        "            metrics=[tf.keras.metrics.BinaryAccuracy()])\n",
        "train_imgs = train_loader.get_all_faces()"
      ]
    },
    {
      "cell_type": "code",
      "execution_count": null,
      "metadata": {
        "id": "odFu4u7i71Ei"
      },
      "outputs": [],
      "source": [
        "# The training loop -- outer loop iterates over the number of epochs\n",
        "for i in range(6):\n",
        "\n",
        "  print(\"Starting epoch {}/{}\".format(i+1, 6))\n",
        "  \n",
        "  # get a batch of training data and compute the training step\n",
        "  for step, data in enumerate(train_loader):\n",
        "    metrics = dbvae.train_step(data)\n",
        "    if step % 100 == 0:\n",
        "        print(step)\n",
        "  _, recon_loss, bias_scores = dbvae(train_imgs)\n",
        "  recon_loss = np.squeeze(recon_loss)\n",
        "\n",
        "  # Recompute data sampling proabilities\n",
        "  p_faces = score_to_probability_bias(bias_scores.numpy(), 1e-7)\n",
        "  p_recon = score_to_probability_epistemic(recon_loss, 1e-7)\n",
        "  p_final = (p_faces + p_recon)/2\n",
        "  p_final /= sum(p_final)\n",
        "  \n",
        "  train_loader.p_pos = p_final"
      ]
    },
    {
      "cell_type": "markdown",
      "metadata": {
        "id": "SwXrAeBo71Ej"
      },
      "source": [
        "Now, we should have a debiased model that also mitigates some forms of uncertainty! Let's see how well our model does:"
      ]
    },
    {
      "cell_type": "markdown",
      "metadata": {
        "id": "MXiB-DMH71Ej"
      },
      "source": [
        "# 3.5 Evaluation\n",
        "\n",
        "Let's run the same analyses as before, and plot the accuracy vs. the bias and accuracy vs. epistemic uncertainty. We want the model to do better on less biased and more uncertain samples than it did previously\n"
      ]
    },
    {
      "cell_type": "code",
      "execution_count": null,
      "metadata": {
        "id": "yaMnwd_w71Ej"
      },
      "outputs": [],
      "source": [
        "predictions, reconstruction_loss, bias = dbvae.predict(test_imgs)"
      ]
    },
    {
      "cell_type": "code",
      "execution_count": null,
      "metadata": {
        "id": "zCXVIsaJ71Ej"
      },
      "outputs": [],
      "source": [
        "indices = np.argsort(bias, axis=None)\n",
        "bias_images = test_imgs[indices]\n",
        "sorted_bias = bias[indices]\n",
        "sorted_bias_preds = predictions[indices]\n",
        "_ = lab3.plot_accuracy_vs_risk(bias_images, sorted_bias, sorted_bias_preds, \"Bias vs. Accuracy\")"
      ]
    },
    {
      "cell_type": "code",
      "execution_count": null,
      "metadata": {
        "id": "P6p2j_xa71Ej"
      },
      "outputs": [],
      "source": [
        "indices = np.argsort(reconstruction_loss, axis=None)\n",
        "epistemic_images = test_imgs[indices]\n",
        "sorted_epistemic = bias[indices]\n",
        "sorted_epistemic_preds = predictions[indices]\n",
        "_ = lab3.plot_accuracy_vs_risk(epistemic_images, sorted_epistemic, sorted_epistemic_preds, \"Epistemic Uncertainty vs. Accuracy\")"
      ]
    },
    {
      "cell_type": "markdown",
      "metadata": {
        "id": "d1cEEnII71Ej"
      },
      "source": [
        "# 3.6 Conclusion\n",
        "\n",
        "We encourage you to think about and maybe even address some questions raised by the approach and results outlined here:\n",
        "\n",
        "* We did not analyze the *aleatoric* uncertainty of the above dataset. Try to develop a similar approach (assigning probabilities based on aleatoric uncertainty) and incorporate this as well! You may find some surprising results :)\n",
        "\n",
        "* How can the performance of the classifier above be improved even further? We purposely did not optimize hyperparameters to leave this up to you!\n",
        "\n",
        "* How can you use other methods of uncertainty in CAPSA to strengthen your uncertainty estimates?\n",
        "\n",
        "* In which applications (either related to facial detection or not!) would debiasing in this way be desired? Are there applications where you may not want to debias your model?\n",
        "\n",
        "* Try to optimize your model to achieve improved performance. MIT students and affiliates will be eligible for prizes during the IAP offering. To enter the competition, MIT students and affiliates should upload the following to the course Canvas:\n",
        "\n",
        "* Jupyter notebook with the code you used to generate your results;\n",
        "copy of the line plots from section 3.5 showing the performance of your model;\n",
        "* a description and/or diagram of the architecture and hyperparameters you used -- if there are any additional or interesting modifications you made to the template code, please include these in your description;\n",
        "* discussion of why these modifications helped improve performance.\n",
        "\n",
        "Hopefully this lab has shed some light on a few concepts, from vision based tasks, to VAEs, to algorithmic bias. We like to think it has, but we're biased ;)."
      ]
    }
  ],
  "metadata": {
    "kernelspec": {
      "display_name": "Python 3",
      "language": "python",
      "name": "python3"
    },
    "language_info": {
      "codemirror_mode": {
        "name": "ipython",
        "version": 3
      },
      "file_extension": ".py",
      "mimetype": "text/x-python",
      "name": "python",
      "nbconvert_exporter": "python",
      "pygments_lexer": "ipython3",
      "version": "3.8.10"
    },
    "colab": {
      "provenance": []
    },
    "accelerator": "GPU",
    "gpuClass": "standard"
  },
  "nbformat": 4,
  "nbformat_minor": 0
}