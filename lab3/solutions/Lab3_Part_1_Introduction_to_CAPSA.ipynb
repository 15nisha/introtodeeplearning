{
  "nbformat": 4,
  "nbformat_minor": 0,
  "metadata": {
    "colab": {
      "provenance": []
    },
    "kernelspec": {
      "name": "python3",
      "display_name": "Python 3"
    },
    "language_info": {
      "name": "python"
    }
  },
  "cells": [
    {
      "cell_type": "markdown",
      "source": [
        "## Part 1: Introduction to CAPSA"
      ],
      "metadata": {
        "id": "ckzz5Hus-hJB"
      }
    },
    {
      "cell_type": "markdown",
      "source": [
        "As we saw in lecture 6, it is critical to be able to estimate bias and uncertainty robustly: we need benchmarks that uniformly measure how uncertain a given model is, and we need principled ways of measuring bias and uncertainty. To that end, in this lab, we'll utilize [CAPSA](https://github.com/themis-ai/capsa), a risk-estimation wrapping library developed by [Themis AI](https://themisai.io/). CAPSA supports the estimation of three different types of *risk*, defined as measures of how trustworthy our model is. These are:\n",
        "1. Representation bias: using a histogram estimation approach, CAPSA calculates how likely combinations of features are to appear in a given dataset. Often, certain combinations of features are severely underrepresented in datasets, which means models learn them less well. Since evaluation metrics are often also biased in the same manner, these biases are not caught through traditional validation pipelines.\n",
        "2. Aleatoric uncertainty: we can estimate the uncertainty in *data* by learning a layer that predicts a standard deviation for every input. This is useful to determine when sensors have noise, classes in datasets have low separations, and generally when very similar inputs lead to drastically different outputs.\n",
        "3. Epistemic uncertainty: also known as predictive or model uncertainty, epistemic uncertainty captures the areas of our underlying data distribution that the model has not yet learned. Areas of high epistemic uncertainty can be due to out of distribution (OOD) samples or data that is harder to learn.\n"
      ],
      "metadata": {
        "id": "gTpt_Hj5j-FZ"
      }
    },
    {
      "cell_type": "markdown",
      "source": [
        "The core ideology behind CAPSA is that models can be *wrapped* in a way that makes them *risk-aware*. This means that CAPSA augments or modifies the user's original model minimally to create a risk-aware variant while preserving the model's underlying structure and training pipeline. CAPSA is a one-line addition to any training workflow in Tensorflow. In this part of the lab, we'll apply CAPSA's risk estimation methods to a toy regression task to further explore the notions of bias and uncertainty. "
      ],
      "metadata": {
        "id": "o02MyoDrnNqP"
      }
    },
    {
      "cell_type": "markdown",
      "source": [
        "Let's first install necessary dependencies:"
      ],
      "metadata": {
        "id": "hF0uSqk-nwmA"
      }
    },
    {
      "cell_type": "code",
      "execution_count": 23,
      "metadata": {
        "colab": {
          "base_uri": "https://localhost:8080/"
        },
        "id": "NdXF4Reyj6yy",
        "outputId": "d9307aea-fe4b-42f0-f9dc-ea5cb75ec6ff"
      },
      "outputs": [
        {
          "output_type": "stream",
          "name": "stdout",
          "text": [
            "Looking in indexes: https://pypi.org/simple, https://us-python.pkg.dev/colab-wheels/public/simple/\n",
            "Requirement already satisfied: capsa in /usr/local/lib/python3.8/dist-packages (0.1.2)\n",
            "Looking in indexes: https://pypi.org/simple, https://us-python.pkg.dev/colab-wheels/public/simple/\n",
            "Collecting mitdeeplearning\n",
            "  Downloading mitdeeplearning-0.2.0.tar.gz (2.1 MB)\n",
            "\u001b[2K     \u001b[90m━━━━━━━━━━━━━━━━━━━━━━━━━━━━━━━━━━━━━━━━\u001b[0m \u001b[32m2.1/2.1 MB\u001b[0m \u001b[31m42.4 MB/s\u001b[0m eta \u001b[36m0:00:00\u001b[0m\n",
            "\u001b[?25h  Preparing metadata (setup.py) ... \u001b[?25l\u001b[?25hdone\n",
            "Requirement already satisfied: numpy in /usr/local/lib/python3.8/dist-packages (from mitdeeplearning) (1.21.6)\n",
            "Requirement already satisfied: regex in /usr/local/lib/python3.8/dist-packages (from mitdeeplearning) (2022.6.2)\n",
            "Requirement already satisfied: tqdm in /usr/local/lib/python3.8/dist-packages (from mitdeeplearning) (4.64.1)\n",
            "Requirement already satisfied: gym in /usr/local/lib/python3.8/dist-packages (from mitdeeplearning) (0.25.2)\n",
            "Requirement already satisfied: cloudpickle>=1.2.0 in /usr/local/lib/python3.8/dist-packages (from gym->mitdeeplearning) (1.5.0)\n",
            "Requirement already satisfied: gym-notices>=0.0.4 in /usr/local/lib/python3.8/dist-packages (from gym->mitdeeplearning) (0.0.8)\n",
            "Requirement already satisfied: importlib-metadata>=4.8.0 in /usr/local/lib/python3.8/dist-packages (from gym->mitdeeplearning) (5.2.0)\n",
            "Requirement already satisfied: zipp>=0.5 in /usr/local/lib/python3.8/dist-packages (from importlib-metadata>=4.8.0->gym->mitdeeplearning) (3.11.0)\n",
            "Building wheels for collected packages: mitdeeplearning\n",
            "  Building wheel for mitdeeplearning (setup.py) ... \u001b[?25l\u001b[?25hdone\n",
            "  Created wheel for mitdeeplearning: filename=mitdeeplearning-0.2.0-py3-none-any.whl size=2115441 sha256=01749b67e04a95830862031f58fadf8cc175b09bcbbaac1d6cb3d7416d532e9c\n",
            "  Stored in directory: /root/.cache/pip/wheels/2e/45/44/c5b304f31f37e8d2315f9e969fd8cdb0014a5c28608d0bf410\n",
            "Successfully built mitdeeplearning\n",
            "Installing collected packages: mitdeeplearning\n",
            "Successfully installed mitdeeplearning-0.2.0\n"
          ]
        }
      ],
      "source": [
        "import tensorflow as tf\n",
        "import numpy as np\n",
        "import matplotlib.pyplot as plt\n",
        "!pip install capsa\n",
        "\n",
        "from capsa import *\n",
        "from helper import gen_data_regression\n",
        "\n",
        "!pip install mitdeeplearning\n",
        "import mitdeeplearning as mdl\n",
        "import tqdm"
      ]
    },
    {
      "cell_type": "markdown",
      "source": [
        "### 1.1 Datasets \n",
        "Next, let's construct a dataset that we'll analyze. As shown in lecture, we'll look at the curve `y = x^3` with epistemic and aleatoric noise added to certain parts of the dataset. The blue points below are the test data: note that there are regions where we have no train data but we have test data! Do you expect these areas to have higher or lower uncertainty? What type of uncertainty?"
      ],
      "metadata": {
        "id": "xzEcxjKHn8gc"
      }
    },
    {
      "cell_type": "code",
      "source": [
        "x, y, x_val, y_val = gen_data_regression(32)"
      ],
      "metadata": {
        "colab": {
          "base_uri": "https://localhost:8080/",
          "height": 265
        },
        "id": "fH40EhC1j9dH",
        "outputId": "2eb3d145-a1f2-481a-8ffa-3f783ddb49d7"
      },
      "execution_count": 22,
      "outputs": [
        {
          "output_type": "display_data",
          "data": {
            "text/plain": [
              "<Figure size 432x288 with 1 Axes>"
            ],
            "image/png": "[encoded data removed]"
          },
          "metadata": {
            "needs_background": "light"
          }
        }
      ]
    },
    {
      "cell_type": "markdown",
      "source": [
        "### 1.2 Vanilla regression\n",
        "Let's define a small model that can predict `y` given `x`: this is a classical regression task!"
      ],
      "metadata": {
        "id": "mXMOYRHnv8tF"
      }
    },
    {
      "cell_type": "code",
      "source": [
        "def create_standard_classifier():\n",
        "  return tf.keras.Sequential(\n",
        "          [\n",
        "              tf.keras.Input(shape=(1,)),\n",
        "              tf.keras.layers.Dense(8, \"relu\"),\n",
        "              tf.keras.layers.Dense(8, \"relu\"),\n",
        "              tf.keras.layers.Dense(1),\n",
        "          ]\n",
        "  )\n",
        "\n",
        "standard_classifier = create_standard_classifier()"
      ],
      "metadata": {
        "id": "7p1XwfZVuB68"
      },
      "execution_count": 30,
      "outputs": []
    },
    {
      "cell_type": "markdown",
      "source": [
        "Let's first train this model normally, without any wrapping. Which areas would you expect the model to do well in? Which areas should it do worse in?"
      ],
      "metadata": {
        "id": "ovwYBUG3wTDv"
      }
    },
    {
      "cell_type": "code",
      "source": [
        "standard_classifier.compile(\n",
        "  optimizer=tf.keras.optimizers.Adam(learning_rate=2e-3),\n",
        "  loss=tf.keras.losses.MeanSquaredError(),\n",
        ")\n",
        "\n",
        "history = standard_classifier.fit(x, y, epochs=10)\n"
      ],
      "metadata": {
        "colab": {
          "base_uri": "https://localhost:8080/"
        },
        "id": "oPNxsGBRwaNA",
        "outputId": "c5fe3192-e2aa-4721-e321-1675e44b8b2f"
      },
      "execution_count": 31,
      "outputs": [
        {
          "output_type": "stream",
          "name": "stdout",
          "text": [
            "Epoch 1/10\n",
            "640/640 [==============================] - 1s 2ms/step - loss: 1.0985\n",
            "Epoch 2/10\n",
            "640/640 [==============================] - 1s 2ms/step - loss: 0.3952\n",
            "Epoch 3/10\n",
            "640/640 [==============================] - 1s 2ms/step - loss: 0.3380\n",
            "Epoch 4/10\n",
            "640/640 [==============================] - 1s 1ms/step - loss: 0.3137\n",
            "Epoch 5/10\n",
            "640/640 [==============================] - 1s 1ms/step - loss: 0.2867\n",
            "Epoch 6/10\n",
            "640/640 [==============================] - 1s 2ms/step - loss: 0.2580\n",
            "Epoch 7/10\n",
            "640/640 [==============================] - 1s 2ms/step - loss: 0.2393\n",
            "Epoch 8/10\n",
            "640/640 [==============================] - 1s 2ms/step - loss: 0.2281\n",
            "Epoch 9/10\n",
            "640/640 [==============================] - 1s 2ms/step - loss: 0.2216\n",
            "Epoch 10/10\n",
            "640/640 [==============================] - 1s 2ms/step - loss: 0.2177\n"
          ]
        }
      ]
    },
    {
      "cell_type": "code",
      "source": [
        "plt.scatter(x_val, y_val, s=0.5, label='truth')\n",
        "plt.scatter(x_val, standard_classifier(x_val), s=0.5, label='predictions')\n",
        "plt.legend()"
      ],
      "metadata": {
        "colab": {
          "base_uri": "https://localhost:8080/",
          "height": 283
        },
        "id": "fb-EklZywR4D",
        "outputId": "c5aaa5e6-107a-49dc-fdc8-2a2cf9f5623d"
      },
      "execution_count": 36,
      "outputs": [
        {
          "output_type": "execute_result",
          "data": {
            "text/plain": [
              "<matplotlib.legend.Legend at 0x7fe129fb0730>"
            ]
          },
          "metadata": {},
          "execution_count": 36
        },
        {
          "output_type": "display_data",
          "data": {
            "text/plain": [
              "<Figure size 432x288 with 1 Axes>"
            ],
            "image/png": "[encoded data removed]"
          },
          "metadata": {
            "needs_background": "light"
          }
        }
      ]
    },
    {
      "cell_type": "markdown",
      "source": [
        "### 1.3 Bias Identification\n",
        "Now that we've seen what the predictions from this model look like, let's see what the uncertainty and bias look like! To do this, we'll wrap a model first with a `HistogramWrapper`. For low-dimensional data, the HistogramWrapper bins the input directly into discrete categories and measures the density. "
      ],
      "metadata": {
        "id": "7MzvM48JyZMO"
      }
    },
    {
      "cell_type": "code",
      "source": [
        "standard_classifier = create_standard_classifier()\n",
        "bias_wrapped_classifier = HistogramWrapper(standard_classifier, \n",
        "                            queue_size=2000, # how many samples to track\n",
        "                            target_hidden_layer=False) # for low-dimensional data, we can estimate densities directly from data\n"
      ],
      "metadata": {
        "id": "AVv-knsCwOp9"
      },
      "execution_count": 79,
      "outputs": []
    },
    {
      "cell_type": "markdown",
      "source": [
        "Now that we've wrapped the classifier, let's re-train it to update the biases as we train. We can use the exact same training pipeline as above to accomplish this!"
      ],
      "metadata": {
        "id": "UFHO7LKcz8uP"
      }
    },
    {
      "cell_type": "code",
      "source": [
        "bias_wrapped_classifier.compile(\n",
        "  optimizer=tf.keras.optimizers.Adam(learning_rate=2e-3),\n",
        "  loss=tf.keras.losses.MeanSquaredError(),\n",
        ")\n",
        "\n",
        "history = bias_wrapped_classifier.fit(x, y, epochs=20)"
      ],
      "metadata": {
        "colab": {
          "base_uri": "https://localhost:8080/"
        },
        "id": "SkyD3rsqy2ff",
        "outputId": "4fb28966-3252-4ce1-b9ee-ca84e6b8a2c9"
      },
      "execution_count": 80,
      "outputs": [
        {
          "output_type": "stream",
          "name": "stdout",
          "text": [
            "Epoch 1/20\n"
          ]
        },
        {
          "output_type": "stream",
          "name": "stderr",
          "text": [
            "WARNING:tensorflow:Gradients do not exist for variables ['dense_29/kernel:0', 'dense_29/bias:0'] when minimizing the loss. If you're using `model.compile()`, did you forget to provide a `loss`argument?\n",
            "WARNING:tensorflow:Gradients do not exist for variables ['dense_29/kernel:0', 'dense_29/bias:0'] when minimizing the loss. If you're using `model.compile()`, did you forget to provide a `loss`argument?\n"
          ]
        },
        {
          "output_type": "stream",
          "name": "stdout",
          "text": [
            "640/640 [==============================] - 2s 2ms/step - histogram_compiled_loss: 2.2918 - histogram_wrapper_loss: 2.5415\n",
            "Epoch 2/20\n",
            "640/640 [==============================] - 1s 2ms/step - histogram_compiled_loss: 0.4253 - histogram_wrapper_loss: 0.7916\n",
            "Epoch 3/20\n",
            "640/640 [==============================] - 1s 2ms/step - histogram_compiled_loss: 0.3311 - histogram_wrapper_loss: 0.6445\n",
            "Epoch 4/20\n",
            "640/640 [==============================] - 2s 3ms/step - histogram_compiled_loss: 0.2927 - histogram_wrapper_loss: 0.5842\n",
            "Epoch 5/20\n",
            "640/640 [==============================] - 2s 3ms/step - histogram_compiled_loss: 0.2683 - histogram_wrapper_loss: 0.5248\n",
            "Epoch 6/20\n",
            "640/640 [==============================] - 1s 2ms/step - histogram_compiled_loss: 0.2446 - histogram_wrapper_loss: 0.4808\n",
            "Epoch 7/20\n",
            "640/640 [==============================] - 2s 3ms/step - histogram_compiled_loss: 0.2325 - histogram_wrapper_loss: 0.4594\n",
            "Epoch 8/20\n",
            "640/640 [==============================] - 1s 2ms/step - histogram_compiled_loss: 0.2266 - histogram_wrapper_loss: 0.4523\n",
            "Epoch 9/20\n",
            "640/640 [==============================] - 1s 2ms/step - histogram_compiled_loss: 0.2205 - histogram_wrapper_loss: 0.4507\n",
            "Epoch 10/20\n",
            "640/640 [==============================] - 1s 2ms/step - histogram_compiled_loss: 0.2273 - histogram_wrapper_loss: 0.4503\n",
            "Epoch 11/20\n",
            "640/640 [==============================] - 1s 2ms/step - histogram_compiled_loss: 0.2228 - histogram_wrapper_loss: 0.4498\n",
            "Epoch 12/20\n",
            "640/640 [==============================] - 1s 2ms/step - histogram_compiled_loss: 0.2224 - histogram_wrapper_loss: 0.4506\n",
            "Epoch 13/20\n",
            "640/640 [==============================] - 2s 2ms/step - histogram_compiled_loss: 0.2230 - histogram_wrapper_loss: 0.4498\n",
            "Epoch 14/20\n",
            "640/640 [==============================] - 1s 2ms/step - histogram_compiled_loss: 0.2250 - histogram_wrapper_loss: 0.4506\n",
            "Epoch 15/20\n",
            "640/640 [==============================] - 1s 2ms/step - histogram_compiled_loss: 0.2227 - histogram_wrapper_loss: 0.4502\n",
            "Epoch 16/20\n",
            "640/640 [==============================] - 1s 2ms/step - histogram_compiled_loss: 0.2276 - histogram_wrapper_loss: 0.4505\n",
            "Epoch 17/20\n",
            "640/640 [==============================] - 1s 2ms/step - histogram_compiled_loss: 0.2285 - histogram_wrapper_loss: 0.4500\n",
            "Epoch 18/20\n",
            "640/640 [==============================] - 1s 2ms/step - histogram_compiled_loss: 0.2241 - histogram_wrapper_loss: 0.4501\n",
            "Epoch 19/20\n",
            "640/640 [==============================] - 1s 2ms/step - histogram_compiled_loss: 0.2216 - histogram_wrapper_loss: 0.4498\n",
            "Epoch 20/20\n",
            "640/640 [==============================] - 1s 2ms/step - histogram_compiled_loss: 0.2275 - histogram_wrapper_loss: 0.4500\n"
          ]
        }
      ]
    },
    {
      "cell_type": "markdown",
      "source": [
        "To access the bias for a given testing input, we can simply call the method as we would normally. In addition to outputting the prediction, this risk-aware model now also outputs an additional bias score per output."
      ],
      "metadata": {
        "id": "_6iVeeqq0f_H"
      }
    },
    {
      "cell_type": "code",
      "source": [
        "predictions, bias = bias_wrapped_classifier(np.sort(x_val))\n",
        "plt.scatter(np.sort(x_val), bias, label='bias', s=0.5)\n",
        "plt.legend()"
      ],
      "metadata": {
        "colab": {
          "base_uri": "https://localhost:8080/",
          "height": 283
        },
        "id": "tZ17eCbP0YM4",
        "outputId": "b71fdbe5-c88b-4659-b722-c0ea87924030"
      },
      "execution_count": 84,
      "outputs": [
        {
          "output_type": "execute_result",
          "data": {
            "text/plain": [
              "<matplotlib.legend.Legend at 0x7fe12b24bf40>"
            ]
          },
          "metadata": {},
          "execution_count": 84
        },
        {
          "output_type": "display_data",
          "data": {
            "text/plain": [
              "<Figure size 432x288 with 1 Axes>"
            ],
            "image/png": "[encoded data removed]"
          },
          "metadata": {
            "needs_background": "light"
          }
        }
      ]
    },
    {
      "cell_type": "markdown",
      "source": [
        "## 1.3 Aleatoric Estimation\n",
        "Now, let's do the same thing but for aleatoric estimation! The method we use here is Mean and Variance Estimation (MVE) since we're trying to estimate both mean and variance for every input. As presented in lecture 5, we measure the accuracy of these predictions negative likelihood loss in addition to mean squared error. However, capsa *automatically* does this for us, so we only have to specify the loss function that we want to use for evaluating the predictions, not the uncertainty."
      ],
      "metadata": {
        "id": "PvS8xR_q27Ec"
      }
    },
    {
      "cell_type": "code",
      "source": [
        "standard_classifier = create_standard_classifier()\n",
        "mve_wrapped_classifier = MVEWrapper(standard_classifier)\n"
      ],
      "metadata": {
        "id": "sxmm-2sd3G9u"
      },
      "execution_count": 73,
      "outputs": []
    },
    {
      "cell_type": "code",
      "source": [
        "mve_wrapped_classifier.compile(\n",
        "  optimizer=tf.keras.optimizers.Adam(learning_rate=2e-3),\n",
        "  loss=tf.keras.losses.MeanSquaredError(),\n",
        ")\n",
        "\n",
        "history = mve_wrapped_classifier.fit(x, y, epochs=20)"
      ],
      "metadata": {
        "colab": {
          "base_uri": "https://localhost:8080/"
        },
        "id": "Yr0yIJEc26yM",
        "outputId": "398bce54-2bf1-4145-b8ab-572fac54a3ed"
      },
      "execution_count": 74,
      "outputs": [
        {
          "output_type": "stream",
          "name": "stdout",
          "text": [
            "Epoch 1/20\n"
          ]
        },
        {
          "output_type": "stream",
          "name": "stderr",
          "text": [
            "WARNING:tensorflow:Gradients do not exist for variables ['dense_23/kernel:0', 'dense_23/bias:0'] when minimizing the loss. If you're using `model.compile()`, did you forget to provide a `loss`argument?\n",
            "WARNING:tensorflow:Gradients do not exist for variables ['dense_23/kernel:0', 'dense_23/bias:0'] when minimizing the loss. If you're using `model.compile()`, did you forget to provide a `loss`argument?\n"
          ]
        },
        {
          "output_type": "stream",
          "name": "stdout",
          "text": [
            "640/640 [==============================] - 2s 2ms/step - mve_compiled_loss: 3.0572 - mve_wrapper_loss: 2.7209\n",
            "Epoch 2/20\n",
            "640/640 [==============================] - 1s 2ms/step - mve_compiled_loss: 0.4334 - mve_wrapper_loss: -0.0698\n",
            "Epoch 3/20\n",
            "640/640 [==============================] - 1s 2ms/step - mve_compiled_loss: 0.2709 - mve_wrapper_loss: -0.5435\n",
            "Epoch 4/20\n",
            "640/640 [==============================] - 1s 2ms/step - mve_compiled_loss: 0.2306 - mve_wrapper_loss: -0.7052\n",
            "Epoch 5/20\n",
            "640/640 [==============================] - 1s 2ms/step - mve_compiled_loss: 0.2176 - mve_wrapper_loss: -0.7758\n",
            "Epoch 6/20\n",
            "640/640 [==============================] - 1s 2ms/step - mve_compiled_loss: 0.2207 - mve_wrapper_loss: -0.8008\n",
            "Epoch 7/20\n",
            "640/640 [==============================] - 1s 2ms/step - mve_compiled_loss: 0.2144 - mve_wrapper_loss: -0.8256\n",
            "Epoch 8/20\n",
            "640/640 [==============================] - 1s 2ms/step - mve_compiled_loss: 0.2138 - mve_wrapper_loss: -0.8392\n",
            "Epoch 9/20\n",
            "640/640 [==============================] - 1s 2ms/step - mve_compiled_loss: 0.2149 - mve_wrapper_loss: -0.8579\n",
            "Epoch 10/20\n",
            "640/640 [==============================] - 1s 2ms/step - mve_compiled_loss: 0.2104 - mve_wrapper_loss: -0.8763\n",
            "Epoch 11/20\n",
            "640/640 [==============================] - 1s 2ms/step - mve_compiled_loss: 0.2177 - mve_wrapper_loss: -0.8816\n",
            "Epoch 12/20\n",
            "640/640 [==============================] - 1s 2ms/step - mve_compiled_loss: 0.2153 - mve_wrapper_loss: -0.8898\n",
            "Epoch 13/20\n",
            "640/640 [==============================] - 1s 2ms/step - mve_compiled_loss: 0.2106 - mve_wrapper_loss: -0.9035\n",
            "Epoch 14/20\n",
            "640/640 [==============================] - 1s 2ms/step - mve_compiled_loss: 0.2159 - mve_wrapper_loss: -0.9069\n",
            "Epoch 15/20\n",
            "640/640 [==============================] - 1s 2ms/step - mve_compiled_loss: 0.2150 - mve_wrapper_loss: -0.9043\n",
            "Epoch 16/20\n",
            "640/640 [==============================] - 1s 2ms/step - mve_compiled_loss: 0.2138 - mve_wrapper_loss: -0.9094\n",
            "Epoch 17/20\n",
            "640/640 [==============================] - 1s 2ms/step - mve_compiled_loss: 0.2183 - mve_wrapper_loss: -0.9145\n",
            "Epoch 18/20\n",
            "640/640 [==============================] - 1s 2ms/step - mve_compiled_loss: 0.2132 - mve_wrapper_loss: -0.9119\n",
            "Epoch 19/20\n",
            "640/640 [==============================] - 1s 2ms/step - mve_compiled_loss: 0.2085 - mve_wrapper_loss: -0.9160\n",
            "Epoch 20/20\n",
            "640/640 [==============================] - 1s 2ms/step - mve_compiled_loss: 0.2121 - mve_wrapper_loss: -0.9222\n"
          ]
        }
      ]
    },
    {
      "cell_type": "code",
      "source": [
        "outputs = mve_wrapped_classifier(x_val)\n",
        "plt.scatter(x_val, outputs.aleatoric, label='aleatoric uncertainty', s=0.5)\n",
        "plt.legend()"
      ],
      "metadata": {
        "colab": {
          "base_uri": "https://localhost:8080/",
          "height": 286
        },
        "id": "k_m_7H4P1ADv",
        "outputId": "fc1e98e8-15e3-45d8-d83e-0a924aba845f"
      },
      "execution_count": 75,
      "outputs": [
        {
          "output_type": "execute_result",
          "data": {
            "text/plain": [
              "<matplotlib.legend.Legend at 0x7fe12a1a1e80>"
            ]
          },
          "metadata": {},
          "execution_count": 75
        },
        {
          "output_type": "display_data",
          "data": {
            "text/plain": [
              "<Figure size 432x288 with 1 Axes>"
            ],
            "image/png": "[encoded data removed]"
          },
          "metadata": {
            "needs_background": "light"
          }
        }
      ]
    },
    {
      "cell_type": "markdown",
      "source": [
        "We can see that in the areas of high label noise-- where small changes in the input lead to large changes in the output-- aleatoric uncertainty spikes!"
      ],
      "metadata": {
        "id": "ZFeArgRX9U9s"
      }
    },
    {
      "cell_type": "markdown",
      "source": [
        "## 1.4 Epistemic Estimation\n",
        "Finally, let's do the same thing but for epistemic estimation! In this example, we'll use ensembles, which essentially copy the model `N` times and average predictions across all runs for a more robust prediction, and also calculate the variance of the `N` runs. Feel free to play around with any of the epistemic methods shown in the github repository! Which methods perform the best? Why do you think this is?"
      ],
      "metadata": {
        "id": "6FC5WPRT5lAb"
      }
    },
    {
      "cell_type": "code",
      "source": [
        "standard_classifier = create_standard_classifier()\n",
        "ensemble_wrapper = EnsembleWrapper(standard_classifier, num_members=5)\n",
        "\n",
        "ensemble_wrapper.compile(\n",
        "  optimizer=tf.keras.optimizers.Adam(learning_rate=2e-3),\n",
        "  loss=tf.keras.losses.MeanSquaredError(),\n",
        ")\n",
        "\n",
        "history = ensemble_wrapper.fit(x, y, epochs=10)"
      ],
      "metadata": {
        "colab": {
          "base_uri": "https://localhost:8080/"
        },
        "id": "SuRlhq2c5Fob",
        "outputId": "509a452f-1c9b-4e30-d1a0-7c6b173ec10d"
      },
      "execution_count": 69,
      "outputs": [
        {
          "output_type": "stream",
          "name": "stdout",
          "text": [
            "Epoch 1/10\n",
            "640/640 [==============================] - 4s 2ms/step - usermodel_0_compiled_loss: 1.6454 - usermodel_1_compiled_loss: 2.6045 - usermodel_2_compiled_loss: 3.0015 - usermodel_3_compiled_loss: 1.7006 - usermodel_4_compiled_loss: 1.6586\n",
            "Epoch 2/10\n",
            "640/640 [==============================] - 2s 3ms/step - usermodel_0_compiled_loss: 0.7776 - usermodel_1_compiled_loss: 1.9006 - usermodel_2_compiled_loss: 1.1599 - usermodel_3_compiled_loss: 0.7811 - usermodel_4_compiled_loss: 0.7477\n",
            "Epoch 3/10\n",
            "640/640 [==============================] - 2s 3ms/step - usermodel_0_compiled_loss: 0.5860 - usermodel_1_compiled_loss: 1.5385 - usermodel_2_compiled_loss: 0.8302 - usermodel_3_compiled_loss: 0.5935 - usermodel_4_compiled_loss: 0.5665\n",
            "Epoch 4/10\n",
            "640/640 [==============================] - 2s 3ms/step - usermodel_0_compiled_loss: 0.4865 - usermodel_1_compiled_loss: 1.2884 - usermodel_2_compiled_loss: 0.6706 - usermodel_3_compiled_loss: 0.4995 - usermodel_4_compiled_loss: 0.4706\n",
            "Epoch 5/10\n",
            "640/640 [==============================] - 2s 3ms/step - usermodel_0_compiled_loss: 0.4266 - usermodel_1_compiled_loss: 1.1067 - usermodel_2_compiled_loss: 0.5747 - usermodel_3_compiled_loss: 0.4413 - usermodel_4_compiled_loss: 0.4134\n",
            "Epoch 6/10\n",
            "640/640 [==============================] - 2s 3ms/step - usermodel_0_compiled_loss: 0.3879 - usermodel_1_compiled_loss: 0.9726 - usermodel_2_compiled_loss: 0.5126 - usermodel_3_compiled_loss: 0.4031 - usermodel_4_compiled_loss: 0.3773\n",
            "Epoch 7/10\n",
            "640/640 [==============================] - 2s 3ms/step - usermodel_0_compiled_loss: 0.3604 - usermodel_1_compiled_loss: 0.8690 - usermodel_2_compiled_loss: 0.4686 - usermodel_3_compiled_loss: 0.3756 - usermodel_4_compiled_loss: 0.3517\n",
            "Epoch 8/10\n",
            "640/640 [==============================] - 2s 3ms/step - usermodel_0_compiled_loss: 0.3406 - usermodel_1_compiled_loss: 0.7888 - usermodel_2_compiled_loss: 0.4370 - usermodel_3_compiled_loss: 0.3561 - usermodel_4_compiled_loss: 0.3333\n",
            "Epoch 9/10\n",
            "640/640 [==============================] - 2s 3ms/step - usermodel_0_compiled_loss: 0.3251 - usermodel_1_compiled_loss: 0.7246 - usermodel_2_compiled_loss: 0.4122 - usermodel_3_compiled_loss: 0.3406 - usermodel_4_compiled_loss: 0.3188\n",
            "Epoch 10/10\n",
            "640/640 [==============================] - 2s 3ms/step - usermodel_0_compiled_loss: 0.3130 - usermodel_1_compiled_loss: 0.6727 - usermodel_2_compiled_loss: 0.3927 - usermodel_3_compiled_loss: 0.3285 - usermodel_4_compiled_loss: 0.3075\n"
          ]
        }
      ]
    },
    {
      "cell_type": "code",
      "source": [
        "outputs = ensemble_wrapper(x_val)\n",
        "plt.scatter(x_val, outputs.epistemic, label='epistemic uncertainty', s=0.5)\n",
        "plt.legend()"
      ],
      "metadata": {
        "colab": {
          "base_uri": "https://localhost:8080/",
          "height": 283
        },
        "id": "HfnPqf8T6TVw",
        "outputId": "b03345a4-d9fb-4878-b9a8-d6bd1de10775"
      },
      "execution_count": 71,
      "outputs": [
        {
          "output_type": "execute_result",
          "data": {
            "text/plain": [
              "<matplotlib.legend.Legend at 0x7fe128bce190>"
            ]
          },
          "metadata": {},
          "execution_count": 71
        },
        {
          "output_type": "display_data",
          "data": {
            "text/plain": [
              "<Figure size 432x288 with 1 Axes>"
            ],
            "image/png": "[encoded data removed]"
          },
          "metadata": {
            "needs_background": "light"
          }
        }
      ]
    },
    {
      "cell_type": "markdown",
      "source": [
        "## Conclusion\n",
        "As expected, areas where there is no training data have very high epistemic uncertainty, since all of the testing data is OOD. If our training data contained more samples from this region, would you expect the epistemic uncertainty to decrease?"
      ],
      "metadata": {
        "id": "VU6eMpYX9m9N"
      }
    },
    {
      "cell_type": "markdown",
      "source": [
        "\n",
        "You've just analyzed the bias, aleatoric uncertainty, and epistemic uncertainty for your first risk-aware model! This is a task that data scientists do constantly to determine methods of improving their models and datasets. In the next part, you'll continue to build off of these concepts to *mitigate* these risks, in addition to diagnosing them!"
      ],
      "metadata": {
        "id": "CkpvkOL06jRd"
      }
    },
    {
      "cell_type": "code",
      "source": [],
      "metadata": {
        "id": "bs4mAQ5c6cMY"
      },
      "execution_count": null,
      "outputs": []
    }
  ]
}