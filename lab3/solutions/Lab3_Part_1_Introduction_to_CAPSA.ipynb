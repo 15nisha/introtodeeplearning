{
  "cells": [
    {
      "cell_type": "markdown",
      "source": [
        "<table align=\"center\">\n",
        "  <td align=\"center\"><a target=\"_blank\" href=\"http://introtodeeplearning.com\">\n",
        "        <img src=\"https://i.ibb.co/Jr88sn2/mit.png\" style=\"padding-bottom:5px;\" />\n",
        "      Visit MIT Deep Learning</a></td>\n",
        "  <td align=\"center\"><a target=\"_blank\" href=\"https://colab.research.google.com/github/aamini/introtodeeplearning/blob/2023/lab3/solutions/Lab3_Part_1_Introduction_to_CAPSA.ipynb\">\n",
        "        <img src=\"https://i.ibb.co/2P3SLwK/colab.png\"  style=\"padding-bottom:5px;\" />Run in Google Colab</a></td>\n",
        "  <td align=\"center\"><a target=\"_blank\" href=\"https://github.com/aamini/introtodeeplearning/blob/2023/lab3/solutions/Lab3_Part_1_Introduction_to_CAPSA.ipynb\">\n",
        "        <img src=\"https://i.ibb.co/xfJbPmL/github.png\"  height=\"70px\" style=\"padding-bottom:5px;\"  />View Source on GitHub</a></td>\n",
        "</table>\n",
        "\n",
        "# Copyright Information"
      ],
      "metadata": {
        "id": "SWa-rLfIlTaf"
      }
    },
    {
      "cell_type": "code",
      "source": [
        "# Copyright 2023 MIT Introduction to Deep Learning. All Rights Reserved.\n",
        "# \n",
        "# Licensed under the MIT License. You may not use this file except in compliance\n",
        "# with the License. Use and/or modification of this code outside of MIT Introduction\n",
        "# to Deep Learning must reference:\n",
        "#\n",
        "# © MIT Introduction to Deep Learning\n",
        "# http://introtodeeplearning.com\n",
        "#"
      ],
      "metadata": {
        "id": "-LohleBMlahL"
      },
      "execution_count": null,
      "outputs": []
    },
    {
      "cell_type": "markdown",
      "metadata": {
        "id": "ckzz5Hus-hJB"
      },
      "source": [
        "# Laboratory 3: Debiasing, Uncertainty, and Robustness\n",
        "\n",
        "# Part 1: Introduction to Capsa\n",
        "\n",
        "In this lab, we'll explore different ways to make deep learning models more **robust** and **trustworthy**.\n",
        "\n",
        "To achieve this it is critical to be able to identify and diagnose issues of bias and uncertainty in deep learning models, as we explored in the Facial Detection Lab 2. We need benchmarks that uniformly measure how uncertain a given model is, and we need principled ways of measuring bias and uncertainty. To that end, in this lab, we'll utilize [Capsa](https://github.com/themis-ai/capsa), a risk-estimation wrapping library developed by [Themis AI](https://themisai.io/). Capsa supports the estimation of three different types of ***risk***, defined as measures of how robust and trustworthy our model is. These are:\n",
        "1. **Representation bias**: reflects how likely combinations of features are to appear in a given dataset. Often, certain combinations of features are severely under-represented in datasets, which means models learn them less well and can thus lead to unwanted bias.\n",
        "2. **Data uncertainty**: reflects noise in the data, for example when sensors have noisy measurements, classes in datasets have low separations, and generally when very similar inputs lead to drastically different outputs. Also known as *aleatoric* uncertainty. \n",
        "3. **Model uncertainty**: captures the areas of our underlying data distribution that the model has not yet learned or has difficulty learning. Areas of high model uncertainty can be due to out-of-distribution (OOD) samples or data that is harder to learn. Also known as *epistemic* uncertainty."
      ]
    },
    {
      "cell_type": "markdown",
      "metadata": {
        "id": "o02MyoDrnNqP"
      },
      "source": [
        "## CAPSA overview\n",
        "\n",
        "This lab introduces Capsa and its functionalities, to next build automated tools that use Capsa to mitigate the underlying issues of bias and uncertainty.\n",
        "\n",
        "The core idea behind Capsa is that any deep learning model of interest can be ***wrapped*** -- just like wrapping a gift -- to be made ***aware of its own risks***. Risk is captured in representation bias, data uncertainty, and model uncertainty.\n",
        "\n",
        "![alt text](https://raw.githubusercontent.com/aamini/introtodeeplearning/2023/lab3/img/capsa_overview.png)\n",
        "\n",
        "This means that Capsa takes the user's original model as input, and modifies it minimally to create a risk-aware variant while preserving the model's underlying structure and training pipeline. Capsa is a one-line addition to any training workflow in TensorFlow. In this part of the lab, we'll apply Capsa's risk estimation methods to a simple regression problem to further explore the notions of bias and uncertainty. "
      ]
    },
    {
      "cell_type": "markdown",
      "metadata": {
        "id": "hF0uSqk-nwmA"
      },
      "source": [
        "Let's get started by installing the necessary dependencies:"
      ]
    },
    {
      "cell_type": "code",
      "execution_count": null,
      "metadata": {
        "colab": {
          "base_uri": "https://localhost:8080/"
        },
        "id": "NdXF4Reyj6yy",
        "outputId": "e21a92b6-cb80-4da3-9b25-f447bf28482b"
      },
      "outputs": [
        {
          "name": "stdout",
          "output_type": "stream",
          "text": [
            "Looking in indexes: https://pypi.org/simple, https://us-python.pkg.dev/colab-wheels/public/simple/\n",
            "Requirement already satisfied: capsa in /usr/local/lib/python3.8/dist-packages (0.1.2)\n",
            "Looking in indexes: https://pypi.org/simple, https://us-python.pkg.dev/colab-wheels/public/simple/\n",
            "Requirement already satisfied: mitdeeplearning in /usr/local/lib/python3.8/dist-packages (0.2.0)\n",
            "Requirement already satisfied: gym in /usr/local/lib/python3.8/dist-packages (from mitdeeplearning) (0.25.2)\n",
            "Requirement already satisfied: numpy in /usr/local/lib/python3.8/dist-packages (from mitdeeplearning) (1.21.6)\n",
            "Requirement already satisfied: regex in /usr/local/lib/python3.8/dist-packages (from mitdeeplearning) (2022.6.2)\n",
            "Requirement already satisfied: tqdm in /usr/local/lib/python3.8/dist-packages (from mitdeeplearning) (4.64.1)\n",
            "Requirement already satisfied: importlib-metadata>=4.8.0 in /usr/local/lib/python3.8/dist-packages (from gym->mitdeeplearning) (5.2.0)\n",
            "Requirement already satisfied: gym-notices>=0.0.4 in /usr/local/lib/python3.8/dist-packages (from gym->mitdeeplearning) (0.0.8)\n",
            "Requirement already satisfied: cloudpickle>=1.2.0 in /usr/local/lib/python3.8/dist-packages (from gym->mitdeeplearning) (1.5.0)\n",
            "Requirement already satisfied: zipp>=0.5 in /usr/local/lib/python3.8/dist-packages (from importlib-metadata>=4.8.0->gym->mitdeeplearning) (3.11.0)\n"
          ]
        }
      ],
      "source": [
        "# Import Tensorflow 2.0\n",
        "%tensorflow_version 2.x\n",
        "import tensorflow as tf\n",
        "\n",
        "import IPython\n",
        "import functools\n",
        "import matplotlib.pyplot as plt\n",
        "import numpy as np\n",
        "from tqdm import tqdm\n",
        "from helper import gen_data_regression\n",
        "\n",
        "# Download and import the MIT Introduction to Deep Learning package\n",
        "!pip install mitdeeplearning\n",
        "import mitdeeplearning as mdl\n",
        "\n",
        "# Download and import Capsa\n",
        "!pip install capsa\n",
        "import capsa"
      ]
    },
    {
      "cell_type": "markdown",
      "metadata": {
        "id": "xzEcxjKHn8gc"
      },
      "source": [
        "## 1.1 Dataset\n",
        "\n",
        "We will build understanding of bias and uncertainty by training a neural network for a simple 2D regression task: modeling the function $y = x^3$. We will use `CAPSA` to analyze this dataset and the performance of the model. Noise and missing-ness will be injected into the dataset.\n",
        "\n",
        "Let's generate the dataset and visualize it:"
      ]
    },
    {
      "cell_type": "code",
      "execution_count": null,
      "metadata": {
        "colab": {
          "base_uri": "https://localhost:8080/",
          "height": 265
        },
        "id": "fH40EhC1j9dH",
        "outputId": "c6936767-2162-4b6c-b430-e5717c70bb75"
      },
      "outputs": [
        {
          "data": {
            "image/png": "[encoded data removed]",
            "text/plain": [
              "<Figure size 432x288 with 1 Axes>"
            ]
          },
          "metadata": {
            "needs_background": "light"
          },
          "output_type": "display_data"
        }
      ],
      "source": [
        "# Get the data for the cubic function, injected with noise and missing-ness\n",
        "def gen_data(x_min, x_max, n, train=True):\n",
        "    x = np.random.triangular(x_min, 2, x_max, size=(n, 1))\n",
        "\n",
        "    sigma = np.exp(-(x+1)**2/1) + 0.2 if train else np.zeros_like(x)\n",
        "    y = x**3/6 + np.random.normal(0, sigma).astype(np.float32)\n",
        "\n",
        "    return x, y\n",
        "\n",
        "# Plot the dataset and visualize the train and test datapoints\n",
        "x_train, y_train = gen_data(-4, 4, 2000) # train data\n",
        "x_test, y_test = gen_data(-6, 6, 500) # test data\n",
        "plt.scatter(x_train, y_train, s=1.5, label='train data')\n",
        "plt.scatter(x_test, y_test, s=1.5, label='test data')\n",
        "\n",
        "plt.legend()\n",
        "plt.show()"
      ]
    },
    {
      "cell_type": "markdown",
      "source": [
        "In the plot above, the orange points are the training data, which will be used as inputs to train the neural network model. The blue points are the test data, which will be used to evaluate the performance of the model.\n",
        "\n",
        "#### **TODO: Inspecting the 2D regression dataset**\n",
        "\n",
        " Write short (~1 sentence) answers to the questions below to complete the `TODO`s:\n",
        "\n",
        "1. What are your observations about where the train data and test data lie relative to each other?\n",
        "2. What, if any, areas do you expect to have high/low aleatoric (data) uncertainty?\n",
        "3. What, if any, areas do you expect to have high/low epistemic (model) uncertainty?"
      ],
      "metadata": {
        "id": "Fz3UxT8vuN95"
      }
    },
    {
      "cell_type": "markdown",
      "metadata": {
        "id": "mXMOYRHnv8tF"
      },
      "source": [
        "## 1.2 Regression on cubic dataset\n",
        "\n",
        "Next we will define a small dense neural network model that can predict `y` given `x`: this is a classical regression task! We will build the model and use the [`model.fit()`](https://www.tensorflow.org/api_docs/python/tf/keras/Model#fit) function to train the model -- normally, without any risk-awareness -- using the train dataset that we visualized above."
      ]
    },
    {
      "cell_type": "code",
      "execution_count": null,
      "metadata": {
        "id": "7p1XwfZVuB68"
      },
      "outputs": [],
      "source": [
        "### Define and train a dense NN model for the regression task###\n",
        "\n",
        "'''Function to define a small dense NN'''\n",
        "def create_dense_NN():\n",
        "  return tf.keras.Sequential(\n",
        "          [\n",
        "              tf.keras.Input(shape=(1,)),\n",
        "              tf.keras.layers.Dense(8, \"relu\"),\n",
        "              tf.keras.layers.Dense(8, \"relu\"),\n",
        "              tf.keras.layers.Dense(1),\n",
        "          ]\n",
        "  )\n",
        "\n",
        "dense_NN = create_dense_NN()\n",
        "\n",
        "# Build the model for regression, defining the loss function and optimizer\n",
        "dense_NN.compile(\n",
        "  optimizer=tf.keras.optimizers.Adam(learning_rate=2e-3),\n",
        "  loss=tf.keras.losses.MeanSquaredError(), # MSE loss for the regression task\n",
        ")\n",
        "\n",
        "# TODO: Train the model for 30 epochs. Use model.fit().\n",
        "loss_history = dense_NN.fit(x_train, y_train, epochs=30) \n",
        "# loss_history = # TODO"
      ]
    },
    {
      "cell_type": "markdown",
      "metadata": {
        "id": "ovwYBUG3wTDv"
      },
      "source": [
        "Now, we are ready to evaluate our neural network. We use the test data to assess performance on the regression task, and visualize the predicted values against the true values.\n",
        "\n",
        "Given your observation of the data in the previous plot, where do you expect the model to perform well? Let's test the model and see:"
      ]
    },
    {
      "cell_type": "code",
      "execution_count": null,
      "metadata": {
        "colab": {
          "base_uri": "https://localhost:8080/",
          "height": 283
        },
        "id": "fb-EklZywR4D",
        "outputId": "1f913c81-fbef-43dd-a391-b7dc209055fa"
      },
      "outputs": [
        {
          "data": {
            "text/plain": [
              "<matplotlib.legend.Legend at 0x7fe11cd8e3a0>"
            ]
          },
          "execution_count": 107,
          "metadata": {},
          "output_type": "execute_result"
        },
        {
          "data": {
            "image/png": "[encoded data removed]",
            "text/plain": [
              "<Figure size 432x288 with 1 Axes>"
            ]
          },
          "metadata": {
            "needs_background": "light"
          },
          "output_type": "display_data"
        }
      ],
      "source": [
        "# Pass the test data through the network and predict the y values\n",
        "y_predicted = dense_NN(x_test)\n",
        "\n",
        "# Visualize the true (x, y) pairs for the test data vs. the predicted values\n",
        "plt.scatter(x_test, y_test, s=0.5, label='truth')\n",
        "plt.scatter(x_test, y_predicted, s=0.5, label='predictions')\n",
        "plt.legend()"
      ]
    },
    {
      "cell_type": "markdown",
      "source": [
        "\n",
        "#### **TODO: Analyzing the performance of standard regression model**\n",
        "\n",
        "Write short (~1 sentence) answers to the questions below to complete the `TODO`s:\n",
        "\n",
        "1. Where does the model perform well?\n",
        "2. Where does the model perform poorly?"
      ],
      "metadata": {
        "id": "7Vktjwfu0ReH"
      }
    },
    {
      "cell_type": "markdown",
      "metadata": {
        "id": "7MzvM48JyZMO"
      },
      "source": [
        "## 1.3 Evaluating bias\n",
        "\n",
        "Now that we've seen what the predictions from this model look like, we will identify and quantify bias and uncertainty in this problem. We first consider bias.\n",
        "\n",
        "Recall that *representation bias* reflects how likely combinations of features are to appear in a given dataset. Capsa calculates how likely combinations of features are by using a histogram estimation approach: the `capsa.HistogramWrapper`. For low-dimensional data, the `capsa.HistogramWrapper` bins the input directly into discrete categories and measures the density. \n",
        "\n",
        "We start by taking our `dense_NN` and wrapping it with the `capsa.HistogramWrapper`:"
      ]
    },
    {
      "cell_type": "code",
      "execution_count": null,
      "metadata": {
        "id": "AVv-knsCwOp9"
      },
      "outputs": [],
      "source": [
        "### Wrap the dense network for bias estimation ###\n",
        "\n",
        "standard_dense_NN = create_dense_NN()\n",
        "bias_wrapped_dense_NN = capsa.HistogramWrapper(\n",
        "    standard_dense_NN, # the original model\n",
        "    queue_size=2000, # how many samples to track\n",
        "    target_hidden_layer=False # for low-dimensional data, we can estimate densities directly from data\n",
        "  )\n"
      ]
    },
    {
      "cell_type": "markdown",
      "metadata": {
        "id": "UFHO7LKcz8uP"
      },
      "source": [
        "Now that we've wrapped the classifier, let's re-train it to update the bias estimates as we train. We can use the exact same training pipeline, using `compile` to build the model and `model.fit()` to train the model:"
      ]
    },
    {
      "cell_type": "code",
      "execution_count": null,
      "metadata": {
        "colab": {
          "base_uri": "https://localhost:8080/"
        },
        "id": "SkyD3rsqy2ff",
        "outputId": "7cd6b5fa-c61a-4306-faed-02a5b9d6a3e3"
      },
      "outputs": [
        {
          "name": "stdout",
          "output_type": "stream",
          "text": [
            "Epoch 1/30\n"
          ]
        },
        {
          "name": "stderr",
          "output_type": "stream",
          "text": [
            "WARNING:tensorflow:Gradients do not exist for variables ['dense_47/kernel:0', 'dense_47/bias:0'] when minimizing the loss. If you're using `model.compile()`, did you forget to provide a `loss`argument?\n",
            "WARNING:tensorflow:Gradients do not exist for variables ['dense_47/kernel:0', 'dense_47/bias:0'] when minimizing the loss. If you're using `model.compile()`, did you forget to provide a `loss`argument?\n"
          ]
        },
        {
          "name": "stdout",
          "output_type": "stream",
          "text": [
            "63/63 [==============================] - 1s 2ms/step - histogram_compiled_loss: 3.9734 - histogram_wrapper_loss: 7.2317\n",
            "Epoch 2/30\n",
            "63/63 [==============================] - 0s 2ms/step - histogram_compiled_loss: 2.0948 - histogram_wrapper_loss: 4.1785\n",
            "Epoch 3/30\n",
            "63/63 [==============================] - 0s 6ms/step - histogram_compiled_loss: 1.6633 - histogram_wrapper_loss: 3.2580\n",
            "Epoch 4/30\n",
            "63/63 [==============================] - 0s 4ms/step - histogram_compiled_loss: 1.5208 - histogram_wrapper_loss: 2.8870\n",
            "Epoch 5/30\n",
            "63/63 [==============================] - 0s 4ms/step - histogram_compiled_loss: 1.2064 - histogram_wrapper_loss: 2.5474\n",
            "Epoch 6/30\n",
            "63/63 [==============================] - 0s 4ms/step - histogram_compiled_loss: 1.1682 - histogram_wrapper_loss: 2.3297\n",
            "Epoch 7/30\n",
            "63/63 [==============================] - 0s 3ms/step - histogram_compiled_loss: 1.0387 - histogram_wrapper_loss: 2.0440\n",
            "Epoch 8/30\n",
            "63/63 [==============================] - 0s 3ms/step - histogram_compiled_loss: 0.9051 - histogram_wrapper_loss: 1.8478\n",
            "Epoch 9/30\n",
            "63/63 [==============================] - 0s 3ms/step - histogram_compiled_loss: 0.8954 - histogram_wrapper_loss: 1.6332\n",
            "Epoch 10/30\n",
            "63/63 [==============================] - 0s 5ms/step - histogram_compiled_loss: 0.7636 - histogram_wrapper_loss: 1.5712\n",
            "Epoch 11/30\n",
            "63/63 [==============================] - 0s 4ms/step - histogram_compiled_loss: 0.6725 - histogram_wrapper_loss: 1.3582\n",
            "Epoch 12/30\n",
            "63/63 [==============================] - 0s 5ms/step - histogram_compiled_loss: 0.6783 - histogram_wrapper_loss: 1.2359\n",
            "Epoch 13/30\n",
            "63/63 [==============================] - 0s 4ms/step - histogram_compiled_loss: 0.6118 - histogram_wrapper_loss: 1.1157\n",
            "Epoch 14/30\n",
            "63/63 [==============================] - 0s 5ms/step - histogram_compiled_loss: 0.5462 - histogram_wrapper_loss: 1.0705\n",
            "Epoch 15/30\n",
            "63/63 [==============================] - 0s 4ms/step - histogram_compiled_loss: 0.4946 - histogram_wrapper_loss: 0.9810\n",
            "Epoch 16/30\n",
            "63/63 [==============================] - 0s 4ms/step - histogram_compiled_loss: 0.4712 - histogram_wrapper_loss: 0.9213\n",
            "Epoch 17/30\n",
            "63/63 [==============================] - 0s 4ms/step - histogram_compiled_loss: 0.4449 - histogram_wrapper_loss: 0.8751\n",
            "Epoch 18/30\n",
            "63/63 [==============================] - 0s 4ms/step - histogram_compiled_loss: 0.4146 - histogram_wrapper_loss: 0.8342\n",
            "Epoch 19/30\n",
            "63/63 [==============================] - 0s 5ms/step - histogram_compiled_loss: 0.4441 - histogram_wrapper_loss: 0.8335\n",
            "Epoch 20/30\n",
            "63/63 [==============================] - 0s 5ms/step - histogram_compiled_loss: 0.4050 - histogram_wrapper_loss: 0.7910\n",
            "Epoch 21/30\n",
            "63/63 [==============================] - 0s 4ms/step - histogram_compiled_loss: 0.4113 - histogram_wrapper_loss: 0.7864\n",
            "Epoch 22/30\n",
            "63/63 [==============================] - 0s 5ms/step - histogram_compiled_loss: 0.3650 - histogram_wrapper_loss: 0.7556\n",
            "Epoch 23/30\n",
            "63/63 [==============================] - 0s 4ms/step - histogram_compiled_loss: 0.3521 - histogram_wrapper_loss: 0.7350\n",
            "Epoch 24/30\n",
            "63/63 [==============================] - 0s 4ms/step - histogram_compiled_loss: 0.3672 - histogram_wrapper_loss: 0.7575\n",
            "Epoch 25/30\n",
            "63/63 [==============================] - 0s 3ms/step - histogram_compiled_loss: 0.3608 - histogram_wrapper_loss: 0.7124\n",
            "Epoch 26/30\n",
            "63/63 [==============================] - 0s 4ms/step - histogram_compiled_loss: 0.3740 - histogram_wrapper_loss: 0.7006\n",
            "Epoch 27/30\n",
            "63/63 [==============================] - 0s 4ms/step - histogram_compiled_loss: 0.3691 - histogram_wrapper_loss: 0.6984\n",
            "Epoch 28/30\n",
            "63/63 [==============================] - 0s 5ms/step - histogram_compiled_loss: 0.3733 - histogram_wrapper_loss: 0.6849\n",
            "Epoch 29/30\n",
            "63/63 [==============================] - 0s 3ms/step - histogram_compiled_loss: 0.3372 - histogram_wrapper_loss: 0.6665\n",
            "Epoch 30/30\n",
            "63/63 [==============================] - 0s 5ms/step - histogram_compiled_loss: 0.3604 - histogram_wrapper_loss: 0.6658\n"
          ]
        }
      ],
      "source": [
        "### Compile and train the wrapped model! ###\n",
        "\n",
        "# Build the model for regression, defining the loss function and optimizer\n",
        "bias_wrapped_dense_NN.compile(\n",
        "  optimizer=tf.keras.optimizers.Adam(learning_rate=2e-3),\n",
        "  loss=tf.keras.losses.MeanSquaredError(), # MSE loss for the regression task\n",
        ")\n",
        "\n",
        "# Train the wrapped model for 30 epochs.\n",
        "loss_history_bias_wrap = bias_wrapped_dense_NN.fit(x_train, y_train, epochs=30)"
      ]
    },
    {
      "cell_type": "markdown",
      "metadata": {
        "id": "_6iVeeqq0f_H"
      },
      "source": [
        "We can now use our wrapped model to assess the bias for a given test input. With the wrapping capability, Capsa neatly allows us to output a *bias score* along with the predicted target value. This bias score reflects the density of data surrounding an input point -- the higher the score, the greater the data representation and density. The wrapped, risk-aware model outputs the predicted target and bias score after it is called!\n",
        "\n",
        "Let's see how it is done:"
      ]
    },
    {
      "cell_type": "code",
      "execution_count": null,
      "metadata": {
        "colab": {
          "base_uri": "https://localhost:8080/",
          "height": 287
        },
        "id": "tZ17eCbP0YM4",
        "outputId": "4da00423-1115-4bf2-95e6-966b8697b5b6"
      },
      "outputs": [
        {
          "data": {
            "text/plain": [
              "<matplotlib.legend.Legend at 0x7fe11cd97190>"
            ]
          },
          "execution_count": 110,
          "metadata": {},
          "output_type": "execute_result"
        },
        {
          "data": {
            "image/png": "[encoded data removed]",
            "text/plain": [
              "<Figure size 432x288 with 1 Axes>"
            ]
          },
          "metadata": {
            "needs_background": "light"
          },
          "output_type": "display_data"
        }
      ],
      "source": [
        "### Generate and visualize bias scores for data in test set ###\n",
        "\n",
        "# Call the risk-aware model to generate scores\n",
        "predictions, bias = bias_wrapped_dense_NN(np.sort(x_test))\n",
        "\n",
        "# Visualize the relationship between the input data x and the bias\n",
        "plt.scatter(np.sort(x_test), bias, label='bias', s=0.5)\n",
        "plt.legend()"
      ]
    },
    {
      "cell_type": "markdown",
      "source": [
        "#### **TODO: Evaluating bias with wrapped regression model**\n",
        "\n",
        "Write short (~1 sentence) answers to the questions below to complete the `TODO`s:\n",
        "\n",
        "1. How does the bias score relate to the train/test data density from the first plot?\n",
        "2. What is one limitation of the Histogram approach that simply bins the data based on frequency?"
      ],
      "metadata": {
        "id": "HpDMT_1FERQE"
      }
    },
    {
      "cell_type": "markdown",
      "metadata": {
        "id": "PvS8xR_q27Ec"
      },
      "source": [
        "# 1.4 Estimating data uncertainty\n",
        "\n",
        "Next we turn our attention to uncertainty, first focusing on the uncertainty in the data -- the aleatoric uncertainty.\n",
        "\n",
        "As introduced in Lecture 5 on Robust & Trustworthy Deep Learning, in regression we can estimate aleatoric uncertainty by training the model to predict both a target value and a variance for every input. Because we estimate both a mean and variance for every input, this method is called Mean Variance Estimation (MVE). MVE involves modifying the output layer to predict both the mean and variance, and changing the loss to reflect the prediction likelihood.\n",
        "\n",
        "Capsa automatically implements these changes for us: we can wrap a given model using `capsa.MVEWrapper` to use MVE to estimate aleatoric uncertainty. All we have to do is define the model and the loss function to evaluate its predictions!\n",
        "\n",
        "Let's take our standard network, wrap it with `capsa.MVEWrapper`, build the wrapped model, and then train it for the regression task. Finally, we evaluate performance of the resulting model by quantifying the aleatoric uncertainty across the data space: "
      ]
    },
    {
      "cell_type": "code",
      "execution_count": null,
      "metadata": {
        "id": "sxmm-2sd3G9u"
      },
      "outputs": [],
      "source": [
        "### Estimating data uncertainty with Capsa wrapping ###\n",
        "\n",
        "standard_dense_NN = create_dense_NN()\n",
        "# Wrap the dense network for aleatoric uncertainty estimation\n",
        "mve_wrapped_NN = capsa.MVEWrapper(standard_dense_NN)\n",
        "\n",
        "# Build the model for regression, defining the loss function and optimizer\n",
        "mve_wrapped_NN.compile(\n",
        "  optimizer=tf.keras.optimizers.Adam(learning_rate=1e-2),\n",
        "  loss=tf.keras.losses.MeanSquaredError(), # MSE loss for the regression task\n",
        ")\n",
        "\n",
        "# Train the wrapped model for 30 epochs.\n",
        "loss_history_mve_wrap = mve_wrapped_NN.fit(x_train, y_train, epochs=30)\n",
        "\n",
        "# Call the uncertainty-aware model to generate outputs for the test data\n",
        "outputs = mve_wrapped_NN(x_test)\n",
        "# Capsa makes the aleatoric uncertainty an attribute of the prediction!\n",
        "aleatoric_unc = outputs.aleatoric\n",
        "\n",
        "# Visualize the aleatoric uncertainty across the data space\n",
        "plt.scatter(x_test, aleatoric, label='aleatoric uncertainty', s=0.5)\n",
        "plt.legend()"
      ]
    },
    {
      "cell_type": "markdown",
      "metadata": {
        "id": "ZFeArgRX9U9s"
      },
      "source": [
        "#### **TODO: Estimating aleatoric uncertainty**\n",
        "\n",
        "Write short (~1 sentence) answers to the questions below to complete the `TODO`s:\n",
        "\n",
        "1. For what values of $x$ is the aleatoric uncertainty high or increasing suddenly?\n",
        "2. How does your answer in (1) relate to how the $x$ values are distributed?"
      ]
    },
    {
      "cell_type": "markdown",
      "metadata": {
        "id": "6FC5WPRT5lAb"
      },
      "source": [
        "# 1.5 Estimating model uncertainty\n",
        "\n",
        "Finally, we use Capsa for estimating the uncertainty underlying the model predictions -- the epistemic uncertainty. In this example, we'll use ensembles, which essentially copy the model `N` times and average predictions across all runs for a more robust prediction, and also calculate the variance of the `N` runs to estimate the uncertainty.\n",
        "\n",
        "Capsa provides a neat wrapper, `capsa.EnsembleWrapper`, to make an ensemble from an input model. Just like with aleatoric estimation, we can take our standard dense network model, wrap it with `capsa.EnsembleWrapper`, build the wrapped model, and then train it for the regression task. Finally, we evaluate the resulting model by quantifying the epistemic uncertainty on the test data:"
      ]
    },
    {
      "cell_type": "code",
      "execution_count": null,
      "metadata": {
        "colab": {
          "base_uri": "https://localhost:8080/"
        },
        "id": "SuRlhq2c5Fob",
        "outputId": "b1f81f5a-69da-4e40-af2a-2a908a1da639"
      },
      "outputs": [
        {
          "name": "stdout",
          "output_type": "stream",
          "text": [
            "Epoch 1/30\n",
            "63/63 [==============================] - 2s 3ms/step - usermodel_0_compiled_loss: 6.5601 - usermodel_1_compiled_loss: 4.9589 - usermodel_2_compiled_loss: 4.8135 - usermodel_3_compiled_loss: 4.3547 - usermodel_4_compiled_loss: 6.3809\n",
            "Epoch 2/30\n",
            "63/63 [==============================] - 0s 3ms/step - usermodel_0_compiled_loss: 3.7732 - usermodel_1_compiled_loss: 4.3968 - usermodel_2_compiled_loss: 2.8938 - usermodel_3_compiled_loss: 3.2580 - usermodel_4_compiled_loss: 4.0894\n",
            "Epoch 3/30\n",
            "63/63 [==============================] - 0s 4ms/step - usermodel_0_compiled_loss: 2.8896 - usermodel_1_compiled_loss: 4.1322 - usermodel_2_compiled_loss: 2.3051 - usermodel_3_compiled_loss: 2.6397 - usermodel_4_compiled_loss: 3.0872\n",
            "Epoch 4/30\n",
            "63/63 [==============================] - 0s 3ms/step - usermodel_0_compiled_loss: 2.4637 - usermodel_1_compiled_loss: 4.0084 - usermodel_2_compiled_loss: 2.0035 - usermodel_3_compiled_loss: 2.2897 - usermodel_4_compiled_loss: 2.5871\n",
            "Epoch 5/30\n",
            "63/63 [==============================] - 0s 3ms/step - usermodel_0_compiled_loss: 2.1638 - usermodel_1_compiled_loss: 3.8279 - usermodel_2_compiled_loss: 1.7763 - usermodel_3_compiled_loss: 2.0321 - usermodel_4_compiled_loss: 2.2477\n",
            "Epoch 6/30\n",
            "63/63 [==============================] - 0s 3ms/step - usermodel_0_compiled_loss: 1.9428 - usermodel_1_compiled_loss: 3.6973 - usermodel_2_compiled_loss: 1.6039 - usermodel_3_compiled_loss: 1.8292 - usermodel_4_compiled_loss: 2.0054\n",
            "Epoch 7/30\n",
            "63/63 [==============================] - 0s 3ms/step - usermodel_0_compiled_loss: 1.7664 - usermodel_1_compiled_loss: 3.5628 - usermodel_2_compiled_loss: 1.4630 - usermodel_3_compiled_loss: 1.6634 - usermodel_4_compiled_loss: 1.8182\n",
            "Epoch 8/30\n",
            "63/63 [==============================] - 0s 3ms/step - usermodel_0_compiled_loss: 1.6222 - usermodel_1_compiled_loss: 3.4514 - usermodel_2_compiled_loss: 1.3476 - usermodel_3_compiled_loss: 1.5290 - usermodel_4_compiled_loss: 1.6662\n",
            "Epoch 9/30\n",
            "63/63 [==============================] - 0s 3ms/step - usermodel_0_compiled_loss: 1.4997 - usermodel_1_compiled_loss: 3.3267 - usermodel_2_compiled_loss: 1.2495 - usermodel_3_compiled_loss: 1.4147 - usermodel_4_compiled_loss: 1.5371\n",
            "Epoch 10/30\n",
            "63/63 [==============================] - 0s 3ms/step - usermodel_0_compiled_loss: 1.3961 - usermodel_1_compiled_loss: 3.2211 - usermodel_2_compiled_loss: 1.1664 - usermodel_3_compiled_loss: 1.3165 - usermodel_4_compiled_loss: 1.4279\n",
            "Epoch 11/30\n",
            "63/63 [==============================] - 0s 3ms/step - usermodel_0_compiled_loss: 1.3066 - usermodel_1_compiled_loss: 3.1169 - usermodel_2_compiled_loss: 1.0947 - usermodel_3_compiled_loss: 1.2315 - usermodel_4_compiled_loss: 1.3337\n",
            "Epoch 12/30\n",
            "63/63 [==============================] - 0s 3ms/step - usermodel_0_compiled_loss: 1.2304 - usermodel_1_compiled_loss: 3.0270 - usermodel_2_compiled_loss: 1.0334 - usermodel_3_compiled_loss: 1.1599 - usermodel_4_compiled_loss: 1.2545\n",
            "Epoch 13/30\n",
            "63/63 [==============================] - 0s 3ms/step - usermodel_0_compiled_loss: 1.1635 - usermodel_1_compiled_loss: 2.9340 - usermodel_2_compiled_loss: 0.9794 - usermodel_3_compiled_loss: 1.0972 - usermodel_4_compiled_loss: 1.1850\n",
            "Epoch 14/30\n",
            "63/63 [==============================] - 0s 3ms/step - usermodel_0_compiled_loss: 1.1056 - usermodel_1_compiled_loss: 2.8478 - usermodel_2_compiled_loss: 0.9327 - usermodel_3_compiled_loss: 1.0430 - usermodel_4_compiled_loss: 1.1251\n",
            "Epoch 15/30\n",
            "63/63 [==============================] - 0s 3ms/step - usermodel_0_compiled_loss: 1.0553 - usermodel_1_compiled_loss: 2.7690 - usermodel_2_compiled_loss: 0.8924 - usermodel_3_compiled_loss: 0.9959 - usermodel_4_compiled_loss: 1.0732\n",
            "Epoch 16/30\n",
            "63/63 [==============================] - 0s 3ms/step - usermodel_0_compiled_loss: 1.0106 - usermodel_1_compiled_loss: 2.6925 - usermodel_2_compiled_loss: 0.8563 - usermodel_3_compiled_loss: 0.9544 - usermodel_4_compiled_loss: 1.0276\n",
            "Epoch 17/30\n",
            "63/63 [==============================] - 0s 3ms/step - usermodel_0_compiled_loss: 0.9704 - usermodel_1_compiled_loss: 2.6262 - usermodel_2_compiled_loss: 0.8240 - usermodel_3_compiled_loss: 0.9167 - usermodel_4_compiled_loss: 0.9862\n",
            "Epoch 18/30\n",
            "63/63 [==============================] - 0s 3ms/step - usermodel_0_compiled_loss: 0.9343 - usermodel_1_compiled_loss: 2.5600 - usermodel_2_compiled_loss: 0.7951 - usermodel_3_compiled_loss: 0.8834 - usermodel_4_compiled_loss: 0.9494\n",
            "Epoch 19/30\n",
            "63/63 [==============================] - 0s 3ms/step - usermodel_0_compiled_loss: 0.9023 - usermodel_1_compiled_loss: 2.4966 - usermodel_2_compiled_loss: 0.7695 - usermodel_3_compiled_loss: 0.8541 - usermodel_4_compiled_loss: 0.9171\n",
            "Epoch 20/30\n",
            "63/63 [==============================] - 0s 3ms/step - usermodel_0_compiled_loss: 0.8727 - usermodel_1_compiled_loss: 2.4440 - usermodel_2_compiled_loss: 0.7459 - usermodel_3_compiled_loss: 0.8270 - usermodel_4_compiled_loss: 0.8870\n",
            "Epoch 21/30\n",
            "63/63 [==============================] - 0s 3ms/step - usermodel_0_compiled_loss: 0.8455 - usermodel_1_compiled_loss: 2.3854 - usermodel_2_compiled_loss: 0.7243 - usermodel_3_compiled_loss: 0.8023 - usermodel_4_compiled_loss: 0.8594\n",
            "Epoch 22/30\n",
            "63/63 [==============================] - 0s 3ms/step - usermodel_0_compiled_loss: 0.8213 - usermodel_1_compiled_loss: 2.3344 - usermodel_2_compiled_loss: 0.7052 - usermodel_3_compiled_loss: 0.7805 - usermodel_4_compiled_loss: 0.8349\n",
            "Epoch 23/30\n",
            "63/63 [==============================] - 0s 3ms/step - usermodel_0_compiled_loss: 0.7981 - usermodel_1_compiled_loss: 2.2851 - usermodel_2_compiled_loss: 0.6867 - usermodel_3_compiled_loss: 0.7593 - usermodel_4_compiled_loss: 0.8112\n",
            "Epoch 24/30\n",
            "63/63 [==============================] - 0s 3ms/step - usermodel_0_compiled_loss: 0.7778 - usermodel_1_compiled_loss: 2.2358 - usermodel_2_compiled_loss: 0.6707 - usermodel_3_compiled_loss: 0.7409 - usermodel_4_compiled_loss: 0.7906\n",
            "Epoch 25/30\n",
            "63/63 [==============================] - 0s 3ms/step - usermodel_0_compiled_loss: 0.7586 - usermodel_1_compiled_loss: 2.1888 - usermodel_2_compiled_loss: 0.6555 - usermodel_3_compiled_loss: 0.7235 - usermodel_4_compiled_loss: 0.7711\n",
            "Epoch 26/30\n",
            "63/63 [==============================] - 0s 3ms/step - usermodel_0_compiled_loss: 0.7409 - usermodel_1_compiled_loss: 2.1461 - usermodel_2_compiled_loss: 0.6415 - usermodel_3_compiled_loss: 0.7074 - usermodel_4_compiled_loss: 0.7532\n",
            "Epoch 27/30\n",
            "63/63 [==============================] - 0s 3ms/step - usermodel_0_compiled_loss: 0.7247 - usermodel_1_compiled_loss: 2.1043 - usermodel_2_compiled_loss: 0.6288 - usermodel_3_compiled_loss: 0.6927 - usermodel_4_compiled_loss: 0.7367\n",
            "Epoch 28/30\n",
            "63/63 [==============================] - 0s 4ms/step - usermodel_0_compiled_loss: 0.7098 - usermodel_1_compiled_loss: 2.0641 - usermodel_2_compiled_loss: 0.6171 - usermodel_3_compiled_loss: 0.6792 - usermodel_4_compiled_loss: 0.7216\n",
            "Epoch 29/30\n",
            "63/63 [==============================] - 0s 3ms/step - usermodel_0_compiled_loss: 0.6950 - usermodel_1_compiled_loss: 2.0264 - usermodel_2_compiled_loss: 0.6053 - usermodel_3_compiled_loss: 0.6658 - usermodel_4_compiled_loss: 0.7067\n",
            "Epoch 30/30\n",
            "63/63 [==============================] - 0s 3ms/step - usermodel_0_compiled_loss: 0.6819 - usermodel_1_compiled_loss: 1.9897 - usermodel_2_compiled_loss: 0.5950 - usermodel_3_compiled_loss: 0.6539 - usermodel_4_compiled_loss: 0.6934\n"
          ]
        }
      ],
      "source": [
        "### Estimating model uncertainty with Capsa wrapping ###\n",
        "\n",
        "standard_dense_NN = create_dense_NN()\n",
        "# Wrap the dense network for epistemic uncertainty estimation with a 5-member Ensemble\n",
        "ensemble_NN = capsa.EnsembleWrapper(standard_dense_NN, num_members=5)\n",
        "\n",
        "# Build the model for regression, defining the loss function and optimizer\n",
        "ensemble_NN.compile(\n",
        "  optimizer=tf.keras.optimizers.Adam(learning_rate=3e-3),\n",
        "  loss=tf.keras.losses.MeanSquaredError(), # MSE loss for the regression task\n",
        ")\n",
        "\n",
        "# Train the wrapped model for 30 epochs.\n",
        "loss_history_ensemble = ensemble_NN.fit(x_train, y_train, epochs=30)\n",
        "\n",
        "# Call the uncertainty-aware model to generate outputs for the test data\n",
        "outputs = ensemble_NN(x_test)\n",
        "# Capsa makes the epistemic uncertainty an attribute of the prediction!\n",
        "epistemic_unc = outputs.epistemic\n",
        "\n",
        "# Visualize the epistemic uncertainty across the data space\n",
        "plt.scatter(x_test, epistemic, label='epistemic uncertainty', s=0.5)\n",
        "plt.legend()"
      ]
    },
    {
      "cell_type": "code",
      "execution_count": null,
      "metadata": {
        "colab": {
          "base_uri": "https://localhost:8080/",
          "height": 283
        },
        "id": "HfnPqf8T6TVw",
        "outputId": "4a9fa19d-ae27-477c-bc47-f84d62a3444f"
      },
      "outputs": [
        {
          "data": {
            "text/plain": [
              "<matplotlib.legend.Legend at 0x7fe127f9f7f0>"
            ]
          },
          "execution_count": 130,
          "metadata": {},
          "output_type": "execute_result"
        },
        {
          "data": {
            "image/png": "[encoded data removed]",
            "text/plain": [
              "<Figure size 432x288 with 1 Axes>"
            ]
          },
          "metadata": {
            "needs_background": "light"
          },
          "output_type": "display_data"
        }
      ],
      "source": [
        "outputs = ensemble_wrapper(x_val)\n",
        "plt.scatter(x_val, outputs.epistemic, label='epistemic uncertainty', s=0.5)\n",
        "plt.legend()"
      ]
    },
    {
      "cell_type": "markdown",
      "source": [
        "#### **TODO: Estimating epistemic uncertainty**\n",
        "\n",
        "Write short (~1 sentence) answers to the questions below to complete the `TODO`s:\n",
        "\n",
        "1. For what values of $x$ is the epistemic uncertainty high or increasing suddenly?\n",
        "2. How does your answer in (1) relate to how the $x$ values are distributed (refer back to original plot)? Think about both the train and test data.\n",
        "3. How could you reduce the epistemic uncertainty in regions where it is high?"
      ],
      "metadata": {
        "id": "N4LMn2tLPBdg"
      }
    },
    {
      "cell_type": "markdown",
      "metadata": {
        "id": "CkpvkOL06jRd"
      },
      "source": [
        "# 1.6 Conclusion\n",
        "\n",
        "You've just analyzed the bias, aleatoric uncertainty, and epistemic uncertainty for your first risk-aware model! This is a task that data scientists do constantly to determine methods of improving their models and datasets.\n",
        "\n",
        "## NOTE TO ADDRESS: THIS CAN BE ELIMINATED COMPLETELY IF IT IS TOO MUCH FOR COMPETITION!\n",
        "### 1.6.1 Submission information\n",
        "To be eligible for the Debiasing Faces Lab prize, you must submit a document of your answers to the short-answer `TODO`s with your complete lab submission. **Name your file in the following format: `[FirstName]_[LastName]_Debiasing_Report.pdf`.**\n",
        "\n",
        "Upload your document write-up as part of your complete lab submission for the Debiasing Faces Lab ([submission upload link](https://www.dropbox.com/request/TTYz3Ikx5wIgOITmm5i2)).\n",
        "\n",
        "Please see the short-answer `TODO`s replicated again here:\n",
        "\n",
        "#### **TODO: Inspecting the 2D regression dataset**\n",
        "\n",
        "1. What are your observations about where the train data and test data lie relative to each other?\n",
        "2. What, if any, areas do you expect to have high/low aleatoric (data) uncertainty?\n",
        "3. What, if any, areas do you expect to have high/low epistemic (model) uncertainty?\n",
        "\n",
        "#### **TODO: Analyzing the performance of standard regression model**\n",
        "\n",
        "1. Where does the model perform well?\n",
        "2. Where does the model perform poorly?\n",
        "\n",
        "#### **TODO: Evaluating bias**\n",
        "\n",
        "1. How does the bias score relate to the train/test data density from the first plot?\n",
        "2. What is one limitation of the Histogram approach that simply bins the data based on frequency?\n",
        "\n",
        "#### **TODO: Estimating aleatoric uncertainty**\n",
        "\n",
        "1. For what values of $x$ is the aleatoric uncertainty high or increasing suddenly?\n",
        "2. How does your answer in (1) relate to how the $x$ values are distributed?\n",
        "\n",
        "#### **TODO: Estimating epistemic uncertainty**\n",
        "\n",
        "1. For what values of $x$ is the epistemic uncertainty high or increasing suddenly?\n",
        "2. How does your answer in (1) relate to how the $x$ values are distributed (refer back to original plot)? Think about both the train and test data.\n",
        "3. How could you reduce the epistemic uncertainty in regions where it is high?\n",
        "\n",
        "### 1.6.2 Moving forward\n",
        "\n",
        "In the next part of the lab, you'll continue to build off of these concepts to *mitigate* these risks, in addition to diagnosing them!\n",
        "\n",
        "![alt text](https://raw.githubusercontent.com/aamini/introtodeeplearning/2023/lab3/img/solutions_toy.png)"
      ]
    }
  ],
  "metadata": {
    "colab": {
      "provenance": []
    },
    "kernelspec": {
      "display_name": "Python 3",
      "name": "python3"
    },
    "language_info": {
      "name": "python"
    }
  },
  "nbformat": 4,
  "nbformat_minor": 0
}